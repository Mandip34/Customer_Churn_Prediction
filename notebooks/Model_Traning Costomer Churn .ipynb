{
 "cells": [
  {
   "cell_type": "markdown",
   "id": "3f54d25e",
   "metadata": {},
   "source": [
    "# Customer Churn\n",
    "\n",
    "##### This notebook contains the Feature Engeering / Model Traning for project Churn Analysis"
   ]
  },
  {
   "cell_type": "markdown",
   "id": "9b941bf5",
   "metadata": {},
   "source": [
    "### Life cycle of Machine learning Project\n",
    "\n",
    "- Understanding the Problem Statement\n",
    "- Data Collection\n",
    "- Data Checks to perform\n",
    "- Exploratory data analysis\n",
    "- Data Pre-Processing\n",
    "- Model Training\n",
    "- Choose best model"
   ]
  },
  {
   "cell_type": "markdown",
   "id": "8d06f048",
   "metadata": {},
   "source": [
    "### Data Collection\n",
    "- Dataset Source - https://www.kaggle.com/datasets/undersc0re/predict-the-churn-risk-rate\n",
    "- The data consists of 23 column and 36992 rows."
   ]
  },
  {
   "cell_type": "markdown",
   "id": "29c08a12",
   "metadata": {},
   "source": [
    "### Table of Contents\n",
    "\n",
    "\n",
    "1) Problem Statement\n",
    "\n",
    "\n",
    "2) Data Dictionary\n",
    "\n",
    "\n",
    "3) Import Libraries\n",
    "\n",
    "\n",
    "4) Data Pre-Processing\n",
    "\n",
    "    4.1 - Missing Values\n",
    "\n",
    "    4.2 - Outliers\n",
    "\n",
    "    4.3 - Categorical Data Encoding\n",
    "    \n",
    "    4.4 - Feature Scaling\n",
    "    \n",
    "    \n",
    "5) Model Evaluation\n",
    "\n",
    "    5.1 - Feature Selection using Random Forest\n",
    "    \n",
    "    5.2 - Grid Search CV\n",
    "    \n",
    "    5.3 - Kfold Cross Validation\n",
    "    \n",
    "    5.4 - Defining Functions\n",
    "    \n",
    "    5.4.1 - Confusion Matrix\n",
    "    \n",
    "    5.4.2 - ROC Curve\n",
    "    \n",
    "    5.4.3 - Classification Report\n",
    "    \n",
    "    5.4.4 - Accuracy\n",
    "    \n",
    "    5.4.5 - F1 Score\n",
    "    \n",
    "    \n",
    "6) Model Building\n",
    "\n",
    "    6.1 - Logistic Regression\n",
    "    \n",
    "    6.2 - Naive Bayes\n",
    "    \n",
    "    6.3 - K nearest neighbors (KNN)\n",
    "    \n",
    "    6.4 - Random Forest\n",
    "    \n",
    "    6.5 - AdaBoost\n",
    "    \n",
    "    6.6 - XGBoost\n",
    "    \n",
    "    6.7 - Catboost\n",
    "    \n",
    "    \n",
    "7) Model Performance\n",
    "\n",
    "\n",
    "8) Model Ensembling\n",
    "\n",
    "    8.1 - Voting Classifier\n",
    "    \n",
    "    8.2 - Stacking Classifier\n",
    "    \n",
    "    \n",
    "9) Displaying Score Summary"
   ]
  },
  {
   "cell_type": "markdown",
   "id": "fca46ca8",
   "metadata": {},
   "source": [
    "### 1) Problem statement\n",
    "\n",
    "- Churn rate is a marketing metric that describes the number of customers who leave a business over a specific time period. Understanding and detecting churn is the first step to retaining these customers and improving the company’s offerings.\n",
    "\n",
    "\n",
    "- Goal is to predict the churn for a website based on the features provided in the dataset. Customer will EXIT(1) or NOT(0), and identify customers who are likely to leave so that we can retain then with some special offers on membership.\n",
    "\n",
    "\n",
    "\n"
   ]
  },
  {
   "cell_type": "markdown",
   "id": "8f1a3003",
   "metadata": {},
   "source": [
    "### 2. Data Dictionary \n",
    "\n",
    "1) age : Represents the age of a customer\n",
    "\n",
    "2) gender : Represents the gender of a customer\n",
    "\n",
    "3) security_no : Represents a unique security number that is used to identify a person\n",
    "\n",
    "4) region_category : Represents the region that a customer belongs to\n",
    "\n",
    "5) membership_category : Represents the category of the membership that a customer is using\n",
    "\n",
    "6) joining_date : Represents the date when a customer became a member\n",
    "\n",
    "7) joined_through_referral : Represents whether a customer joined using any referral code or ID\n",
    "\n",
    "8) referral_id : Represents a referral ID\n",
    "\n",
    "9) preferred_offer_types : Represents the type of offer that a customer prefers\n",
    "\n",
    "10) medium_of_operation : Represents the medium of operation that a customer uses for transactions\n",
    "\n",
    "11) internet_option : Represents the type of internet service a customer uses\n",
    "\n",
    "12) last_visit_time : Represents the last time a customer visited the website\n",
    "\n",
    "13) days_since_last_login : Represents the no. of days since a customer last logged into the website\n",
    "\n",
    "14) avg_time_spent : Represents the average time spent by a customer on the website\n",
    "\n",
    "15) avg_transaction_value : Represents the average transaction value of a customer\n",
    "\n",
    "16) avg_frequency_login_days : Represents the no. of times a customer has logged in to the website\n",
    "\n",
    "17) points_in_wallet : Represents the points awarded to a customer on each transaction\n",
    "\n",
    "18) used_special_discount : Represents whether a customer uses special discounts offered\n",
    "\n",
    "19) offer_application_preference : Represents whether a customer prefers offers\n",
    "\n",
    "20) past_complaint : Represents whether a customer has raised any complaints\n",
    "\n",
    "21) complaint_status : Represents whether the complaints raised by a customer was resolved\n",
    "\n",
    "22) feedback : Represents the feedback provided by a customer\n",
    "\n",
    "23) churn_risk_score : 0 or 1 [Customer will Stay or Exit]"
   ]
  },
  {
   "cell_type": "markdown",
   "id": "853b2b0e",
   "metadata": {},
   "source": [
    "### 3. Import Data and Required Packages"
   ]
  },
  {
   "cell_type": "code",
   "execution_count": 1,
   "id": "531bff17",
   "metadata": {},
   "outputs": [
    {
     "data": {
      "application/javascript": [
       "\n",
       "        if (window._pyforest_update_imports_cell) { window._pyforest_update_imports_cell('import pandas as pd'); }\n",
       "    "
      ],
      "text/plain": [
       "<IPython.core.display.Javascript object>"
      ]
     },
     "metadata": {},
     "output_type": "display_data"
    }
   ],
   "source": [
    "data = pd.read_csv('churn.csv', index_col=0)"
   ]
  },
  {
   "cell_type": "code",
   "execution_count": 2,
   "id": "7d02f79e",
   "metadata": {},
   "outputs": [],
   "source": [
    "import numpy as np\n",
    "import pandas as pd\n",
    "import seaborn as sns\n",
    "import matplotlib.pyplot as plt\n",
    "\n",
    "from sklearn.tree import DecisionTreeClassifier\n",
    "from sklearn.linear_model import LogisticRegression\n",
    "from sklearn.neighbors import KNeighborsClassifier\n",
    "from sklearn.naive_bayes import GaussianNB\n",
    "from sklearn.svm import SVC\n",
    "\n",
    "from sklearn.impute import KNNImputer\n",
    "from sklearn.preprocessing import OrdinalEncoder, LabelEncoder, StandardScaler \n",
    "from sklearn.model_selection import train_test_split, cross_val_score, KFold\n",
    "from sklearn.metrics import *\n",
    "\n",
    "from sklearn.ensemble import VotingClassifier\n",
    "from sklearn.ensemble import RandomForestClassifier, AdaBoostClassifier, GradientBoostingClassifier\n",
    "\n",
    "from catboost import CatBoostClassifier\n",
    "from xgboost import XGBClassifier\n",
    "\n",
    "import optuna\n",
    "\n",
    "from sklearn.pipeline import Pipeline\n",
    "from sklearn.compose import ColumnTransformer\n",
    "\n",
    "import warnings\n",
    "warnings.filterwarnings('ignore')"
   ]
  },
  {
   "cell_type": "markdown",
   "id": "95c70c0b",
   "metadata": {},
   "source": [
    "## 4. Data Preprocessing "
   ]
  },
  {
   "cell_type": "markdown",
   "id": "9f4e6953",
   "metadata": {},
   "source": [
    "\n",
    "### 4.1 Missing values "
   ]
  },
  {
   "cell_type": "markdown",
   "id": "1c82ef98",
   "metadata": {},
   "source": [
    "#### 4.1.1 Standard Missing Values "
   ]
  },
  {
   "cell_type": "code",
   "execution_count": 3,
   "id": "f94ca6da",
   "metadata": {},
   "outputs": [
    {
     "data": {
      "text/html": [
       "<div>\n",
       "<style scoped>\n",
       "    .dataframe tbody tr th:only-of-type {\n",
       "        vertical-align: middle;\n",
       "    }\n",
       "\n",
       "    .dataframe tbody tr th {\n",
       "        vertical-align: top;\n",
       "    }\n",
       "\n",
       "    .dataframe thead th {\n",
       "        text-align: right;\n",
       "    }\n",
       "</style>\n",
       "<table border=\"1\" class=\"dataframe\">\n",
       "  <thead>\n",
       "    <tr style=\"text-align: right;\">\n",
       "      <th></th>\n",
       "      <th>missing_values</th>\n",
       "      <th>percentage</th>\n",
       "    </tr>\n",
       "  </thead>\n",
       "  <tbody>\n",
       "    <tr>\n",
       "      <th>region_category</th>\n",
       "      <td>5428</td>\n",
       "      <td>14.673443</td>\n",
       "    </tr>\n",
       "    <tr>\n",
       "      <th>points_in_wallet</th>\n",
       "      <td>3443</td>\n",
       "      <td>9.307418</td>\n",
       "    </tr>\n",
       "    <tr>\n",
       "      <th>preferred_offer_types</th>\n",
       "      <td>288</td>\n",
       "      <td>0.778547</td>\n",
       "    </tr>\n",
       "    <tr>\n",
       "      <th>age</th>\n",
       "      <td>0</td>\n",
       "      <td>0.000000</td>\n",
       "    </tr>\n",
       "    <tr>\n",
       "      <th>avg_time_spent</th>\n",
       "      <td>0</td>\n",
       "      <td>0.000000</td>\n",
       "    </tr>\n",
       "    <tr>\n",
       "      <th>feedback</th>\n",
       "      <td>0</td>\n",
       "      <td>0.000000</td>\n",
       "    </tr>\n",
       "    <tr>\n",
       "      <th>complaint_status</th>\n",
       "      <td>0</td>\n",
       "      <td>0.000000</td>\n",
       "    </tr>\n",
       "    <tr>\n",
       "      <th>past_complaint</th>\n",
       "      <td>0</td>\n",
       "      <td>0.000000</td>\n",
       "    </tr>\n",
       "    <tr>\n",
       "      <th>offer_application_preference</th>\n",
       "      <td>0</td>\n",
       "      <td>0.000000</td>\n",
       "    </tr>\n",
       "    <tr>\n",
       "      <th>used_special_discount</th>\n",
       "      <td>0</td>\n",
       "      <td>0.000000</td>\n",
       "    </tr>\n",
       "    <tr>\n",
       "      <th>avg_frequency_login_days</th>\n",
       "      <td>0</td>\n",
       "      <td>0.000000</td>\n",
       "    </tr>\n",
       "    <tr>\n",
       "      <th>avg_transaction_value</th>\n",
       "      <td>0</td>\n",
       "      <td>0.000000</td>\n",
       "    </tr>\n",
       "    <tr>\n",
       "      <th>last_visit_time</th>\n",
       "      <td>0</td>\n",
       "      <td>0.000000</td>\n",
       "    </tr>\n",
       "    <tr>\n",
       "      <th>days_since_last_login</th>\n",
       "      <td>0</td>\n",
       "      <td>0.000000</td>\n",
       "    </tr>\n",
       "    <tr>\n",
       "      <th>gender</th>\n",
       "      <td>0</td>\n",
       "      <td>0.000000</td>\n",
       "    </tr>\n",
       "    <tr>\n",
       "      <th>internet_option</th>\n",
       "      <td>0</td>\n",
       "      <td>0.000000</td>\n",
       "    </tr>\n",
       "    <tr>\n",
       "      <th>medium_of_operation</th>\n",
       "      <td>0</td>\n",
       "      <td>0.000000</td>\n",
       "    </tr>\n",
       "    <tr>\n",
       "      <th>referral_id</th>\n",
       "      <td>0</td>\n",
       "      <td>0.000000</td>\n",
       "    </tr>\n",
       "    <tr>\n",
       "      <th>joined_through_referral</th>\n",
       "      <td>0</td>\n",
       "      <td>0.000000</td>\n",
       "    </tr>\n",
       "    <tr>\n",
       "      <th>joining_date</th>\n",
       "      <td>0</td>\n",
       "      <td>0.000000</td>\n",
       "    </tr>\n",
       "    <tr>\n",
       "      <th>membership_category</th>\n",
       "      <td>0</td>\n",
       "      <td>0.000000</td>\n",
       "    </tr>\n",
       "    <tr>\n",
       "      <th>security_no</th>\n",
       "      <td>0</td>\n",
       "      <td>0.000000</td>\n",
       "    </tr>\n",
       "    <tr>\n",
       "      <th>churn_risk_score</th>\n",
       "      <td>0</td>\n",
       "      <td>0.000000</td>\n",
       "    </tr>\n",
       "  </tbody>\n",
       "</table>\n",
       "</div>"
      ],
      "text/plain": [
       "                              missing_values  percentage\n",
       "region_category                         5428   14.673443\n",
       "points_in_wallet                        3443    9.307418\n",
       "preferred_offer_types                    288    0.778547\n",
       "age                                        0    0.000000\n",
       "avg_time_spent                             0    0.000000\n",
       "feedback                                   0    0.000000\n",
       "complaint_status                           0    0.000000\n",
       "past_complaint                             0    0.000000\n",
       "offer_application_preference               0    0.000000\n",
       "used_special_discount                      0    0.000000\n",
       "avg_frequency_login_days                   0    0.000000\n",
       "avg_transaction_value                      0    0.000000\n",
       "last_visit_time                            0    0.000000\n",
       "days_since_last_login                      0    0.000000\n",
       "gender                                     0    0.000000\n",
       "internet_option                            0    0.000000\n",
       "medium_of_operation                        0    0.000000\n",
       "referral_id                                0    0.000000\n",
       "joined_through_referral                    0    0.000000\n",
       "joining_date                               0    0.000000\n",
       "membership_category                        0    0.000000\n",
       "security_no                                0    0.000000\n",
       "churn_risk_score                           0    0.000000"
      ]
     },
     "execution_count": 3,
     "metadata": {},
     "output_type": "execute_result"
    }
   ],
   "source": [
    "missing_values = pd.DataFrame({\n",
    "    'missing_values':data.isnull().sum(),\n",
    "    'percentage':data.isnull().sum()*100/data.shape[0]\n",
    "})\n",
    "\n",
    "missing_values.sort_values(by='missing_values', ascending=False)"
   ]
  },
  {
   "cell_type": "markdown",
   "id": "0b29e0ea",
   "metadata": {},
   "source": [
    "Above datafram shows that missing values which are NaN values but there are some non-standard missing values which needs to be treated before further processing."
   ]
  },
  {
   "cell_type": "markdown",
   "id": "cd70950c",
   "metadata": {},
   "source": [
    "#### 4.1.2 Non-Standard Missing Values \n",
    "\n",
    "##### The non-standard missing values are replaced with NaN"
   ]
  },
  {
   "cell_type": "code",
   "execution_count": 4,
   "id": "ce6932cb",
   "metadata": {},
   "outputs": [
    {
     "data": {
      "text/plain": [
       "No     15839\n",
       "Yes    15715\n",
       "?       5438\n",
       "Name: joined_through_referral, dtype: int64"
      ]
     },
     "execution_count": 4,
     "metadata": {},
     "output_type": "execute_result"
    }
   ],
   "source": [
    "data.joined_through_referral.value_counts()"
   ]
  },
  {
   "cell_type": "markdown",
   "id": "9d8c1c1e",
   "metadata": {},
   "source": [
    "##### The feature joined_through_referral has unindentified '?' values which are replaced with Nan."
   ]
  },
  {
   "cell_type": "code",
   "execution_count": 5,
   "id": "5030505e",
   "metadata": {},
   "outputs": [],
   "source": [
    "data['joined_through_referral'] = data['joined_through_referral'].replace('?',np.NaN)"
   ]
  },
  {
   "cell_type": "code",
   "execution_count": 6,
   "id": "7963ebb1",
   "metadata": {},
   "outputs": [
    {
     "data": {
      "text/plain": [
       "F          18490\n",
       "M          18443\n",
       "Unknown       59\n",
       "Name: gender, dtype: int64"
      ]
     },
     "execution_count": 6,
     "metadata": {},
     "output_type": "execute_result"
    }
   ],
   "source": [
    "data.gender.value_counts()"
   ]
  },
  {
   "cell_type": "markdown",
   "id": "1552f958",
   "metadata": {},
   "source": [
    "##### \n",
    "The feature gender has unindentified 'Unknown' values which are replaced with Nan."
   ]
  },
  {
   "cell_type": "code",
   "execution_count": 7,
   "id": "4857dca0",
   "metadata": {},
   "outputs": [
    {
     "data": {
      "text/plain": [
       "array(['xxxxxxxx', 'CID21329', 'CID12313', ..., 'CID60808', 'CID10431',\n",
       "       'CID45477'], dtype=object)"
      ]
     },
     "execution_count": 7,
     "metadata": {},
     "output_type": "execute_result"
    }
   ],
   "source": [
    "data['gender'] = data['gender'].replace('Unknown',np.NaN)\n",
    "\n",
    "data.referral_id.unique()"
   ]
  },
  {
   "cell_type": "markdown",
   "id": "cb9270d7",
   "metadata": {},
   "source": [
    "##### The feature referral_id has unindentified 'xxxxxxxx' values which are replaced with Nan."
   ]
  },
  {
   "cell_type": "code",
   "execution_count": 8,
   "id": "11ac7621",
   "metadata": {},
   "outputs": [
    {
     "data": {
      "text/plain": [
       "Desktop       13913\n",
       "Smartphone    13876\n",
       "?              5393\n",
       "Both           3810\n",
       "Name: medium_of_operation, dtype: int64"
      ]
     },
     "execution_count": 8,
     "metadata": {},
     "output_type": "execute_result"
    }
   ],
   "source": [
    "data['referral_id'] = data['referral_id'].replace('xxxxxxxx',np.NaN)  \n",
    "\n",
    "data.medium_of_operation.value_counts()"
   ]
  },
  {
   "cell_type": "markdown",
   "id": "d4d27eb7",
   "metadata": {},
   "source": [
    "##### The feature medium_of_operation has unindentified '?' values which are replaced with Nan."
   ]
  },
  {
   "cell_type": "code",
   "execution_count": 9,
   "id": "bc9299ad",
   "metadata": {},
   "outputs": [
    {
     "data": {
      "text/plain": [
       " 12     2380\n",
       " 13     2373\n",
       " 14     2307\n",
       " 15     2278\n",
       " 11     2262\n",
       " 10     2091\n",
       " 16     2068\n",
       "-999    1999\n",
       " 9      1863\n",
       " 17     1747\n",
       " 8      1571\n",
       " 18     1444\n",
       " 7      1442\n",
       " 19     1308\n",
       " 6      1257\n",
       " 5      1234\n",
       " 20     1184\n",
       " 21     1015\n",
       " 4       998\n",
       " 22      895\n",
       " 3       852\n",
       " 23      727\n",
       " 2       613\n",
       " 24      471\n",
       " 1       328\n",
       " 25      203\n",
       " 26       82\n",
       "Name: days_since_last_login, dtype: int64"
      ]
     },
     "execution_count": 9,
     "metadata": {},
     "output_type": "execute_result"
    }
   ],
   "source": [
    "data['medium_of_operation'] = data['medium_of_operation'].replace('?',np.NaN) \n",
    "\n",
    "data.days_since_last_login.value_counts()"
   ]
  },
  {
   "cell_type": "markdown",
   "id": "bfaf3785",
   "metadata": {},
   "source": [
    "##### The feature days_since_last_login has unindentified '-999' values which are replaced with Nan."
   ]
  },
  {
   "cell_type": "code",
   "execution_count": 10,
   "id": "f2a85c9c",
   "metadata": {},
   "outputs": [
    {
     "data": {
      "text/plain": [
       "1719"
      ]
     },
     "execution_count": 10,
     "metadata": {},
     "output_type": "execute_result"
    }
   ],
   "source": [
    "data['days_since_last_login'] = data['days_since_last_login'].replace(-999,np.NaN)\n",
    "\n",
    "len(data[data.avg_time_spent < 0]['avg_time_spent'])"
   ]
  },
  {
   "cell_type": "code",
   "execution_count": 11,
   "id": "7bf39ea2",
   "metadata": {},
   "outputs": [],
   "source": [
    "data['avg_time_spent']=data['avg_time_spent'].apply(lambda x:x if x>=0 else np.nan)"
   ]
  },
  {
   "cell_type": "markdown",
   "id": "b63d50ba",
   "metadata": {},
   "source": [
    "##### The feature avg_time_spent has negative values which are replaced with Nan"
   ]
  },
  {
   "cell_type": "code",
   "execution_count": 12,
   "id": "ef801f66",
   "metadata": {},
   "outputs": [
    {
     "data": {
      "text/plain": [
       "136"
      ]
     },
     "execution_count": 12,
     "metadata": {},
     "output_type": "execute_result"
    }
   ],
   "source": [
    "len(data[data.points_in_wallet < 0]['points_in_wallet'])"
   ]
  },
  {
   "cell_type": "markdown",
   "id": "825648e1",
   "metadata": {},
   "source": [
    "##### The feature points_in_wallet has negative values which are replaced with Nan"
   ]
  },
  {
   "cell_type": "code",
   "execution_count": 13,
   "id": "2a36a067",
   "metadata": {},
   "outputs": [],
   "source": [
    "data['points_in_wallet']=data['points_in_wallet'].apply(lambda x:x if x>=0 else np.nan)"
   ]
  },
  {
   "cell_type": "markdown",
   "id": "a7e0d77d",
   "metadata": {},
   "source": [
    "##### The feature avg_frequency_login_days has negative values as well as unidentified 'Error' values which are replaced with Nan"
   ]
  },
  {
   "cell_type": "code",
   "execution_count": 14,
   "id": "49e75fa6",
   "metadata": {},
   "outputs": [],
   "source": [
    "data['avg_frequency_login_days']=data['avg_frequency_login_days'].apply(lambda x:x if x!='Error' else -1)\n",
    "data['avg_frequency_login_days']=data['avg_frequency_login_days'].astype('float')\n",
    "data['avg_frequency_login_days']=data['avg_frequency_login_days'].apply(lambda x:x if x>=0 else np.nan)"
   ]
  },
  {
   "cell_type": "code",
   "execution_count": 15,
   "id": "8176ceef",
   "metadata": {},
   "outputs": [
    {
     "data": {
      "text/html": [
       "<div>\n",
       "<style scoped>\n",
       "    .dataframe tbody tr th:only-of-type {\n",
       "        vertical-align: middle;\n",
       "    }\n",
       "\n",
       "    .dataframe tbody tr th {\n",
       "        vertical-align: top;\n",
       "    }\n",
       "\n",
       "    .dataframe thead th {\n",
       "        text-align: right;\n",
       "    }\n",
       "</style>\n",
       "<table border=\"1\" class=\"dataframe\">\n",
       "  <thead>\n",
       "    <tr style=\"text-align: right;\">\n",
       "      <th></th>\n",
       "      <th>missing_values</th>\n",
       "      <th>percentage</th>\n",
       "    </tr>\n",
       "  </thead>\n",
       "  <tbody>\n",
       "    <tr>\n",
       "      <th>referral_id</th>\n",
       "      <td>17846</td>\n",
       "      <td>48.242863</td>\n",
       "    </tr>\n",
       "    <tr>\n",
       "      <th>joined_through_referral</th>\n",
       "      <td>5438</td>\n",
       "      <td>14.700476</td>\n",
       "    </tr>\n",
       "    <tr>\n",
       "      <th>region_category</th>\n",
       "      <td>5428</td>\n",
       "      <td>14.673443</td>\n",
       "    </tr>\n",
       "    <tr>\n",
       "      <th>medium_of_operation</th>\n",
       "      <td>5393</td>\n",
       "      <td>14.578828</td>\n",
       "    </tr>\n",
       "    <tr>\n",
       "      <th>avg_frequency_login_days</th>\n",
       "      <td>4205</td>\n",
       "      <td>11.367323</td>\n",
       "    </tr>\n",
       "    <tr>\n",
       "      <th>points_in_wallet</th>\n",
       "      <td>3579</td>\n",
       "      <td>9.675065</td>\n",
       "    </tr>\n",
       "    <tr>\n",
       "      <th>days_since_last_login</th>\n",
       "      <td>1999</td>\n",
       "      <td>5.403871</td>\n",
       "    </tr>\n",
       "    <tr>\n",
       "      <th>avg_time_spent</th>\n",
       "      <td>1719</td>\n",
       "      <td>4.646951</td>\n",
       "    </tr>\n",
       "    <tr>\n",
       "      <th>preferred_offer_types</th>\n",
       "      <td>288</td>\n",
       "      <td>0.778547</td>\n",
       "    </tr>\n",
       "    <tr>\n",
       "      <th>gender</th>\n",
       "      <td>59</td>\n",
       "      <td>0.159494</td>\n",
       "    </tr>\n",
       "    <tr>\n",
       "      <th>age</th>\n",
       "      <td>0</td>\n",
       "      <td>0.000000</td>\n",
       "    </tr>\n",
       "    <tr>\n",
       "      <th>feedback</th>\n",
       "      <td>0</td>\n",
       "      <td>0.000000</td>\n",
       "    </tr>\n",
       "    <tr>\n",
       "      <th>complaint_status</th>\n",
       "      <td>0</td>\n",
       "      <td>0.000000</td>\n",
       "    </tr>\n",
       "    <tr>\n",
       "      <th>past_complaint</th>\n",
       "      <td>0</td>\n",
       "      <td>0.000000</td>\n",
       "    </tr>\n",
       "    <tr>\n",
       "      <th>offer_application_preference</th>\n",
       "      <td>0</td>\n",
       "      <td>0.000000</td>\n",
       "    </tr>\n",
       "    <tr>\n",
       "      <th>used_special_discount</th>\n",
       "      <td>0</td>\n",
       "      <td>0.000000</td>\n",
       "    </tr>\n",
       "    <tr>\n",
       "      <th>last_visit_time</th>\n",
       "      <td>0</td>\n",
       "      <td>0.000000</td>\n",
       "    </tr>\n",
       "    <tr>\n",
       "      <th>avg_transaction_value</th>\n",
       "      <td>0</td>\n",
       "      <td>0.000000</td>\n",
       "    </tr>\n",
       "    <tr>\n",
       "      <th>internet_option</th>\n",
       "      <td>0</td>\n",
       "      <td>0.000000</td>\n",
       "    </tr>\n",
       "    <tr>\n",
       "      <th>joining_date</th>\n",
       "      <td>0</td>\n",
       "      <td>0.000000</td>\n",
       "    </tr>\n",
       "    <tr>\n",
       "      <th>membership_category</th>\n",
       "      <td>0</td>\n",
       "      <td>0.000000</td>\n",
       "    </tr>\n",
       "    <tr>\n",
       "      <th>security_no</th>\n",
       "      <td>0</td>\n",
       "      <td>0.000000</td>\n",
       "    </tr>\n",
       "    <tr>\n",
       "      <th>churn_risk_score</th>\n",
       "      <td>0</td>\n",
       "      <td>0.000000</td>\n",
       "    </tr>\n",
       "  </tbody>\n",
       "</table>\n",
       "</div>"
      ],
      "text/plain": [
       "                              missing_values  percentage\n",
       "referral_id                            17846   48.242863\n",
       "joined_through_referral                 5438   14.700476\n",
       "region_category                         5428   14.673443\n",
       "medium_of_operation                     5393   14.578828\n",
       "avg_frequency_login_days                4205   11.367323\n",
       "points_in_wallet                        3579    9.675065\n",
       "days_since_last_login                   1999    5.403871\n",
       "avg_time_spent                          1719    4.646951\n",
       "preferred_offer_types                    288    0.778547\n",
       "gender                                    59    0.159494\n",
       "age                                        0    0.000000\n",
       "feedback                                   0    0.000000\n",
       "complaint_status                           0    0.000000\n",
       "past_complaint                             0    0.000000\n",
       "offer_application_preference               0    0.000000\n",
       "used_special_discount                      0    0.000000\n",
       "last_visit_time                            0    0.000000\n",
       "avg_transaction_value                      0    0.000000\n",
       "internet_option                            0    0.000000\n",
       "joining_date                               0    0.000000\n",
       "membership_category                        0    0.000000\n",
       "security_no                                0    0.000000\n",
       "churn_risk_score                           0    0.000000"
      ]
     },
     "execution_count": 15,
     "metadata": {},
     "output_type": "execute_result"
    }
   ],
   "source": [
    "missing_values = pd.DataFrame({\n",
    "    'missing_values':data.isnull().sum(),\n",
    "    'percentage':data.isnull().sum()*100/data.shape[0]\n",
    "})\n",
    "\n",
    "missing_values.sort_values(by='missing_values', ascending=False)"
   ]
  },
  {
   "cell_type": "markdown",
   "id": "93574025",
   "metadata": {},
   "source": [
    "##### There are 10 features that has missing values. \n",
    "##### Referral_id has the most missing values around 48%."
   ]
  },
  {
   "cell_type": "markdown",
   "id": "054ced75",
   "metadata": {},
   "source": [
    "#### 4.1.3 Missing values imputation"
   ]
  },
  {
   "cell_type": "code",
   "execution_count": 16,
   "id": "f65c50f1",
   "metadata": {},
   "outputs": [],
   "source": [
    "df_num = data.select_dtypes(include=np.number)\n",
    "df_cat = data.select_dtypes(include='object')"
   ]
  },
  {
   "cell_type": "markdown",
   "id": "92b327ee",
   "metadata": {},
   "source": [
    "#### Missing values treatment for categorical variable"
   ]
  },
  {
   "cell_type": "code",
   "execution_count": 17,
   "id": "bfd0fab7",
   "metadata": {},
   "outputs": [],
   "source": [
    "Missing_cat = data[['gender','preferred_offer_types','region_category','joined_through_referral','medium_of_operation']]\n",
    "for i,col in enumerate(Missing_cat):\n",
    "    data[col].fillna(data[col].mode()[0], inplace=True)"
   ]
  },
  {
   "cell_type": "markdown",
   "id": "d3248e28",
   "metadata": {},
   "source": [
    "##### Missing values treatment for numerical variable"
   ]
  },
  {
   "cell_type": "code",
   "execution_count": 18,
   "id": "684f3ef2",
   "metadata": {},
   "outputs": [],
   "source": [
    "Missing_num = data[['points_in_wallet','avg_time_spent','days_since_last_login','avg_frequency_login_days']]\n",
    "\n",
    "imputer = KNNImputer(n_neighbors=3)\n",
    "imputed_value=imputer.fit_transform(Missing_num)"
   ]
  },
  {
   "cell_type": "markdown",
   "id": "495caa92",
   "metadata": {},
   "source": [
    "1) For imputing missing values for categorical features we have used mode value\n",
    "\n",
    "2) For imputing missing values for numerical featurers we have used KNNimputer after experimenting with other imputation methods such as mean & median and we got better results with KNNimputer."
   ]
  },
  {
   "cell_type": "code",
   "execution_count": 19,
   "id": "e5256ccd",
   "metadata": {},
   "outputs": [],
   "source": [
    "d1 = pd.DataFrame({\n",
    "    'avg_frequency_login_days':imputed_value.T[0],\n",
    "    'points_in_wallet':imputed_value.T[1],\n",
    "    'days_since_last_login':imputed_value.T[2],\n",
    "    'avg_time_spent':imputed_value.T[3]\n",
    "\n",
    "})\n",
    "\n",
    "data.drop(['avg_frequency_login_days','points_in_wallet','days_since_last_login','avg_time_spent'], axis=1, inplace=True)\n",
    "\n",
    "data = pd.concat([data, d1], axis=1)"
   ]
  },
  {
   "cell_type": "code",
   "execution_count": 20,
   "id": "08df2249",
   "metadata": {},
   "outputs": [],
   "source": [
    "data['year']=data.joining_date.apply(lambda x:2021-int(x.split('-')[0]))\n",
    "\n",
    "data.drop(['security_no','joining_date','referral_id','last_visit_time'], axis=1, inplace=True)"
   ]
  },
  {
   "cell_type": "markdown",
   "id": "3fa2e0f8",
   "metadata": {},
   "source": [
    "1) Created new feature year from joining_date\n",
    "\n",
    "2) Dropped features such as security_no, referral_id etc. because either they aren't valuable for predicting churn or having major missing values."
   ]
  },
  {
   "cell_type": "markdown",
   "id": "17737060",
   "metadata": {},
   "source": [
    "### 4.2 Outliers "
   ]
  },
  {
   "cell_type": "code",
   "execution_count": 21,
   "id": "b39660ed",
   "metadata": {},
   "outputs": [],
   "source": [
    "df_num=data.select_dtypes(include=[np.number]) "
   ]
  },
  {
   "cell_type": "code",
   "execution_count": 22,
   "id": "d28fa6c1",
   "metadata": {},
   "outputs": [
    {
     "name": "stdout",
     "output_type": "stream",
     "text": [
      "Total number of Outliers in column age are 0\n",
      "Total number of Outliers in column avg_transaction_value are 1131\n",
      "Total number of Outliers in column churn_risk_score are 0\n",
      "Total number of Outliers in column avg_frequency_login_days are 4399\n",
      "Total number of Outliers in column points_in_wallet are 2911\n",
      "Total number of Outliers in column days_since_last_login are 0\n",
      "Total number of Outliers in column avg_time_spent are 417\n",
      "Total number of Outliers in column year are 0\n"
     ]
    }
   ],
   "source": [
    "Q1 = data.quantile(0.25) \n",
    "Q3 = data.quantile(0.75) \n",
    "IQR = Q3 - Q1 \n",
    "\n",
    "outlier = pd.DataFrame((df_num < (Q1 - 1.5 * IQR)) | (df_num > (Q3 + 1.5 * IQR)))\n",
    "for i in outlier.columns:\n",
    "    print(f'Total number of Outliers in column {i} are {len(outlier[outlier[i] == True][i])}')"
   ]
  },
  {
   "cell_type": "code",
   "execution_count": 23,
   "id": "4487933c",
   "metadata": {},
   "outputs": [],
   "source": [
    "data_iqr = data[~((data < (Q1 - 1.5 * IQR)) |(data > (Q3 + 1.5 * IQR))).any(axis=1)] \n",
    "\n",
    "data_iqr.reset_index(inplace=True)\n",
    "\n",
    "data_iqr.drop('index',axis=1, inplace=True)"
   ]
  },
  {
   "cell_type": "code",
   "execution_count": 24,
   "id": "40771bd0",
   "metadata": {},
   "outputs": [],
   "source": [
    "df_cat = data_iqr[['gender','region_category','joined_through_referral','preferred_offer_types','medium_of_operation','internet_option','used_special_discount','offer_application_preference','past_complaint']]\n",
    "df_num = data_iqr.select_dtypes(include=np.number)"
   ]
  },
  {
   "cell_type": "markdown",
   "id": "bc078562",
   "metadata": {},
   "source": [
    "### 4.3 Categorical Data Encoding "
   ]
  },
  {
   "cell_type": "code",
   "execution_count": 25,
   "id": "6906da60",
   "metadata": {},
   "outputs": [],
   "source": [
    "orderencoding_membership_category = OrdinalEncoder(categories = [[\"No Membership\", \"Basic Membership\", \"Silver Membership\", \"Gold Membership\",\"Platinum Membership\",\"Premium Membership\"]])\n",
    "data_iqr['membership_category'] = orderencoding_membership_category.fit_transform(data_iqr['membership_category'].values.reshape(-1,1))\n",
    "\n",
    "orderencoding_complaint_status = OrdinalEncoder(categories = [[\"No Information Available\", \"Not Applicable\", \"Unsolved\",\"Solved\",\"Solved in Follow-up\"]])\n",
    "data_iqr['complaint_status'] = orderencoding_complaint_status.fit_transform(data_iqr['complaint_status'].values.reshape(-1,1)) \n",
    "\n",
    "labelencoder_feedback = LabelEncoder() \n",
    "data_iqr['feedback'] = labelencoder_feedback.fit_transform(data_iqr.feedback) \n",
    "\n",
    "df_categorical = pd.get_dummies(df_cat, drop_first=True)"
   ]
  },
  {
   "cell_type": "markdown",
   "id": "b32459c2",
   "metadata": {},
   "source": [
    "1) For features such as membership_category and complaint_status we have used OrdinalEncoder because there is kind hierarchy in which we can order classes of these features.\n",
    "\n",
    "2) We have used dummy encoded features such as age, region, medium_of_operation, and internet_option etc."
   ]
  },
  {
   "cell_type": "code",
   "execution_count": 26,
   "id": "e94bdd0b",
   "metadata": {},
   "outputs": [],
   "source": [
    "df_final = pd.concat([df_categorical,df_num,data_iqr['membership_category'],data_iqr['complaint_status'],data_iqr['feedback']], axis=1)"
   ]
  },
  {
   "cell_type": "markdown",
   "id": "461dd4bf",
   "metadata": {},
   "source": [
    "### 4.4 Feature Scaling"
   ]
  },
  {
   "cell_type": "code",
   "execution_count": 27,
   "id": "29753469",
   "metadata": {},
   "outputs": [],
   "source": [
    "col = df_final[['age','days_since_last_login','avg_time_spent','avg_transaction_value','avg_frequency_login_days','points_in_wallet']]"
   ]
  },
  {
   "cell_type": "code",
   "execution_count": 28,
   "id": "4edfa997",
   "metadata": {},
   "outputs": [],
   "source": [
    "df_final.drop(['age','days_since_last_login','avg_time_spent','avg_transaction_value','avg_frequency_login_days','points_in_wallet'], axis=1, inplace=True)"
   ]
  },
  {
   "cell_type": "code",
   "execution_count": 29,
   "id": "8bdbe427",
   "metadata": {},
   "outputs": [],
   "source": [
    "standard_scale = StandardScaler() \n",
    "col1 = standard_scale.fit_transform(col) \n",
    "df_scaled = pd.DataFrame(col1, columns=col.columns)"
   ]
  },
  {
   "cell_type": "code",
   "execution_count": 30,
   "id": "a7ffcd24",
   "metadata": {},
   "outputs": [
    {
     "data": {
      "text/html": [
       "<div>\n",
       "<style scoped>\n",
       "    .dataframe tbody tr th:only-of-type {\n",
       "        vertical-align: middle;\n",
       "    }\n",
       "\n",
       "    .dataframe tbody tr th {\n",
       "        vertical-align: top;\n",
       "    }\n",
       "\n",
       "    .dataframe thead th {\n",
       "        text-align: right;\n",
       "    }\n",
       "</style>\n",
       "<table border=\"1\" class=\"dataframe\">\n",
       "  <thead>\n",
       "    <tr style=\"text-align: right;\">\n",
       "      <th></th>\n",
       "      <th>age</th>\n",
       "      <th>days_since_last_login</th>\n",
       "      <th>avg_time_spent</th>\n",
       "      <th>avg_transaction_value</th>\n",
       "      <th>avg_frequency_login_days</th>\n",
       "      <th>points_in_wallet</th>\n",
       "    </tr>\n",
       "  </thead>\n",
       "  <tbody>\n",
       "    <tr>\n",
       "      <th>0</th>\n",
       "      <td>-1.209342</td>\n",
       "      <td>0.756268</td>\n",
       "      <td>0.098431</td>\n",
       "      <td>1.566300</td>\n",
       "      <td>1.032977</td>\n",
       "      <td>0.435508</td>\n",
       "    </tr>\n",
       "    <tr>\n",
       "      <th>1</th>\n",
       "      <td>-0.326297</td>\n",
       "      <td>0.573495</td>\n",
       "      <td>-0.849870</td>\n",
       "      <td>-0.883072</td>\n",
       "      <td>-1.090570</td>\n",
       "      <td>0.465956</td>\n",
       "    </tr>\n",
       "    <tr>\n",
       "      <th>2</th>\n",
       "      <td>0.430599</td>\n",
       "      <td>0.207949</td>\n",
       "      <td>0.775788</td>\n",
       "      <td>-0.383731</td>\n",
       "      <td>-1.992103</td>\n",
       "      <td>1.584823</td>\n",
       "    </tr>\n",
       "    <tr>\n",
       "      <th>3</th>\n",
       "      <td>-0.010923</td>\n",
       "      <td>-0.340370</td>\n",
       "      <td>-1.391756</td>\n",
       "      <td>-0.126849</td>\n",
       "      <td>-1.271298</td>\n",
       "      <td>-0.883541</td>\n",
       "    </tr>\n",
       "    <tr>\n",
       "      <th>4</th>\n",
       "      <td>-0.389371</td>\n",
       "      <td>1.304586</td>\n",
       "      <td>-0.037041</td>\n",
       "      <td>-0.172944</td>\n",
       "      <td>-0.244497</td>\n",
       "      <td>-0.564337</td>\n",
       "    </tr>\n",
       "  </tbody>\n",
       "</table>\n",
       "</div>"
      ],
      "text/plain": [
       "        age  days_since_last_login  avg_time_spent  avg_transaction_value  \\\n",
       "0 -1.209342               0.756268        0.098431               1.566300   \n",
       "1 -0.326297               0.573495       -0.849870              -0.883072   \n",
       "2  0.430599               0.207949        0.775788              -0.383731   \n",
       "3 -0.010923              -0.340370       -1.391756              -0.126849   \n",
       "4 -0.389371               1.304586       -0.037041              -0.172944   \n",
       "\n",
       "   avg_frequency_login_days  points_in_wallet  \n",
       "0                  1.032977          0.435508  \n",
       "1                 -1.090570          0.465956  \n",
       "2                 -1.992103          1.584823  \n",
       "3                 -1.271298         -0.883541  \n",
       "4                 -0.244497         -0.564337  "
      ]
     },
     "execution_count": 30,
     "metadata": {},
     "output_type": "execute_result"
    }
   ],
   "source": [
    "df_scaled.head()\n"
   ]
  },
  {
   "cell_type": "code",
   "execution_count": 31,
   "id": "cbb9665b",
   "metadata": {},
   "outputs": [],
   "source": [
    "data_final = pd.concat([df_final,df_scaled], axis=1 )"
   ]
  },
  {
   "cell_type": "code",
   "execution_count": 32,
   "id": "a9dbf4ca",
   "metadata": {},
   "outputs": [
    {
     "data": {
      "text/html": [
       "<div>\n",
       "<style scoped>\n",
       "    .dataframe tbody tr th:only-of-type {\n",
       "        vertical-align: middle;\n",
       "    }\n",
       "\n",
       "    .dataframe tbody tr th {\n",
       "        vertical-align: top;\n",
       "    }\n",
       "\n",
       "    .dataframe thead th {\n",
       "        text-align: right;\n",
       "    }\n",
       "</style>\n",
       "<table border=\"1\" class=\"dataframe\">\n",
       "  <thead>\n",
       "    <tr style=\"text-align: right;\">\n",
       "      <th></th>\n",
       "      <th>gender_M</th>\n",
       "      <th>region_category_Town</th>\n",
       "      <th>region_category_Village</th>\n",
       "      <th>joined_through_referral_Yes</th>\n",
       "      <th>preferred_offer_types_Gift Vouchers/Coupons</th>\n",
       "      <th>preferred_offer_types_Without Offers</th>\n",
       "      <th>medium_of_operation_Desktop</th>\n",
       "      <th>medium_of_operation_Smartphone</th>\n",
       "      <th>internet_option_Mobile_Data</th>\n",
       "      <th>internet_option_Wi-Fi</th>\n",
       "      <th>...</th>\n",
       "      <th>year</th>\n",
       "      <th>membership_category</th>\n",
       "      <th>complaint_status</th>\n",
       "      <th>feedback</th>\n",
       "      <th>age</th>\n",
       "      <th>days_since_last_login</th>\n",
       "      <th>avg_time_spent</th>\n",
       "      <th>avg_transaction_value</th>\n",
       "      <th>avg_frequency_login_days</th>\n",
       "      <th>points_in_wallet</th>\n",
       "    </tr>\n",
       "  </thead>\n",
       "  <tbody>\n",
       "    <tr>\n",
       "      <th>0</th>\n",
       "      <td>0</td>\n",
       "      <td>0</td>\n",
       "      <td>1</td>\n",
       "      <td>0</td>\n",
       "      <td>1</td>\n",
       "      <td>0</td>\n",
       "      <td>1</td>\n",
       "      <td>0</td>\n",
       "      <td>0</td>\n",
       "      <td>1</td>\n",
       "      <td>...</td>\n",
       "      <td>4</td>\n",
       "      <td>4.0</td>\n",
       "      <td>1.0</td>\n",
       "      <td>4</td>\n",
       "      <td>-1.209342</td>\n",
       "      <td>0.756268</td>\n",
       "      <td>0.098431</td>\n",
       "      <td>1.566300</td>\n",
       "      <td>1.032977</td>\n",
       "      <td>0.435508</td>\n",
       "    </tr>\n",
       "    <tr>\n",
       "      <th>1</th>\n",
       "      <td>0</td>\n",
       "      <td>0</td>\n",
       "      <td>0</td>\n",
       "      <td>0</td>\n",
       "      <td>1</td>\n",
       "      <td>0</td>\n",
       "      <td>1</td>\n",
       "      <td>0</td>\n",
       "      <td>1</td>\n",
       "      <td>0</td>\n",
       "      <td>...</td>\n",
       "      <td>4</td>\n",
       "      <td>5.0</td>\n",
       "      <td>3.0</td>\n",
       "      <td>5</td>\n",
       "      <td>-0.326297</td>\n",
       "      <td>0.573495</td>\n",
       "      <td>-0.849870</td>\n",
       "      <td>-0.883072</td>\n",
       "      <td>-1.090570</td>\n",
       "      <td>0.465956</td>\n",
       "    </tr>\n",
       "    <tr>\n",
       "      <th>2</th>\n",
       "      <td>0</td>\n",
       "      <td>1</td>\n",
       "      <td>0</td>\n",
       "      <td>1</td>\n",
       "      <td>1</td>\n",
       "      <td>0</td>\n",
       "      <td>1</td>\n",
       "      <td>0</td>\n",
       "      <td>0</td>\n",
       "      <td>1</td>\n",
       "      <td>...</td>\n",
       "      <td>5</td>\n",
       "      <td>0.0</td>\n",
       "      <td>4.0</td>\n",
       "      <td>3</td>\n",
       "      <td>0.430599</td>\n",
       "      <td>0.207949</td>\n",
       "      <td>0.775788</td>\n",
       "      <td>-0.383731</td>\n",
       "      <td>-1.992103</td>\n",
       "      <td>1.584823</td>\n",
       "    </tr>\n",
       "    <tr>\n",
       "      <th>3</th>\n",
       "      <td>1</td>\n",
       "      <td>0</td>\n",
       "      <td>0</td>\n",
       "      <td>1</td>\n",
       "      <td>1</td>\n",
       "      <td>0</td>\n",
       "      <td>1</td>\n",
       "      <td>0</td>\n",
       "      <td>1</td>\n",
       "      <td>0</td>\n",
       "      <td>...</td>\n",
       "      <td>5</td>\n",
       "      <td>0.0</td>\n",
       "      <td>2.0</td>\n",
       "      <td>3</td>\n",
       "      <td>-0.010923</td>\n",
       "      <td>-0.340370</td>\n",
       "      <td>-1.391756</td>\n",
       "      <td>-0.126849</td>\n",
       "      <td>-1.271298</td>\n",
       "      <td>-0.883541</td>\n",
       "    </tr>\n",
       "    <tr>\n",
       "      <th>4</th>\n",
       "      <td>0</td>\n",
       "      <td>0</td>\n",
       "      <td>0</td>\n",
       "      <td>0</td>\n",
       "      <td>0</td>\n",
       "      <td>0</td>\n",
       "      <td>0</td>\n",
       "      <td>1</td>\n",
       "      <td>1</td>\n",
       "      <td>0</td>\n",
       "      <td>...</td>\n",
       "      <td>4</td>\n",
       "      <td>0.0</td>\n",
       "      <td>3.0</td>\n",
       "      <td>3</td>\n",
       "      <td>-0.389371</td>\n",
       "      <td>1.304586</td>\n",
       "      <td>-0.037041</td>\n",
       "      <td>-0.172944</td>\n",
       "      <td>-0.244497</td>\n",
       "      <td>-0.564337</td>\n",
       "    </tr>\n",
       "  </tbody>\n",
       "</table>\n",
       "<p>5 rows × 24 columns</p>\n",
       "</div>"
      ],
      "text/plain": [
       "   gender_M  region_category_Town  region_category_Village  \\\n",
       "0         0                     0                        1   \n",
       "1         0                     0                        0   \n",
       "2         0                     1                        0   \n",
       "3         1                     0                        0   \n",
       "4         0                     0                        0   \n",
       "\n",
       "   joined_through_referral_Yes  preferred_offer_types_Gift Vouchers/Coupons  \\\n",
       "0                            0                                            1   \n",
       "1                            0                                            1   \n",
       "2                            1                                            1   \n",
       "3                            1                                            1   \n",
       "4                            0                                            0   \n",
       "\n",
       "   preferred_offer_types_Without Offers  medium_of_operation_Desktop  \\\n",
       "0                                     0                            1   \n",
       "1                                     0                            1   \n",
       "2                                     0                            1   \n",
       "3                                     0                            1   \n",
       "4                                     0                            0   \n",
       "\n",
       "   medium_of_operation_Smartphone  internet_option_Mobile_Data  \\\n",
       "0                               0                            0   \n",
       "1                               0                            1   \n",
       "2                               0                            0   \n",
       "3                               0                            1   \n",
       "4                               1                            1   \n",
       "\n",
       "   internet_option_Wi-Fi  ...  year  membership_category  complaint_status  \\\n",
       "0                      1  ...     4                  4.0               1.0   \n",
       "1                      0  ...     4                  5.0               3.0   \n",
       "2                      1  ...     5                  0.0               4.0   \n",
       "3                      0  ...     5                  0.0               2.0   \n",
       "4                      0  ...     4                  0.0               3.0   \n",
       "\n",
       "   feedback       age  days_since_last_login  avg_time_spent  \\\n",
       "0         4 -1.209342               0.756268        0.098431   \n",
       "1         5 -0.326297               0.573495       -0.849870   \n",
       "2         3  0.430599               0.207949        0.775788   \n",
       "3         3 -0.010923              -0.340370       -1.391756   \n",
       "4         3 -0.389371               1.304586       -0.037041   \n",
       "\n",
       "   avg_transaction_value  avg_frequency_login_days  points_in_wallet  \n",
       "0               1.566300                  1.032977          0.435508  \n",
       "1              -0.883072                 -1.090570          0.465956  \n",
       "2              -0.383731                 -1.992103          1.584823  \n",
       "3              -0.126849                 -1.271298         -0.883541  \n",
       "4              -0.172944                 -0.244497         -0.564337  \n",
       "\n",
       "[5 rows x 24 columns]"
      ]
     },
     "execution_count": 32,
     "metadata": {},
     "output_type": "execute_result"
    }
   ],
   "source": [
    "data_final.head()"
   ]
  },
  {
   "cell_type": "markdown",
   "id": "2cb902f0",
   "metadata": {},
   "source": [
    "## 5. Model Evaluation "
   ]
  },
  {
   "cell_type": "markdown",
   "id": "391632bc",
   "metadata": {},
   "source": [
    "### 5.1 Feature Selection using Random Forest "
   ]
  },
  {
   "cell_type": "code",
   "execution_count": 33,
   "id": "c1dd5aaf",
   "metadata": {},
   "outputs": [],
   "source": [
    "Features = data_final.drop(['churn_risk_score'] ,axis = 1)\n",
    "Target = data_final['churn_risk_score']"
   ]
  },
  {
   "cell_type": "code",
   "execution_count": 34,
   "id": "7040052c",
   "metadata": {},
   "outputs": [
    {
     "data": {
      "text/plain": [
       "RandomForestClassifier(random_state=0)"
      ]
     },
     "execution_count": 34,
     "metadata": {},
     "output_type": "execute_result"
    }
   ],
   "source": [
    "X_train1, X_test1, y_train1, y_test1 = train_test_split(Features, Target, test_size=0.20, random_state=42)\n",
    "\n",
    "model =  RandomForestClassifier(random_state = 0)\n",
    "model.fit(X_train1, y_train1)"
   ]
  },
  {
   "cell_type": "code",
   "execution_count": 35,
   "id": "ca4b7fe6",
   "metadata": {},
   "outputs": [
    {
     "data": {
      "image/png": "[encoded data removed]",
      "text/plain": [
       "<Figure size 640x480 with 1 Axes>"
      ]
     },
     "metadata": {},
     "output_type": "display_data"
    }
   ],
   "source": [
    "important_features = pd.DataFrame({'Features': X_train1.columns, \n",
    "                                   'Importance': model.feature_importances_})\n",
    "\n",
    "important_features = important_features.sort_values('Importance', ascending = False)\n",
    "\n",
    "sns.barplot(x = 'Importance', y = 'Features', data = important_features)\n",
    "\n",
    "plt.title('Feature Importance', fontsize = 15)\n",
    "plt.xlabel('Importance', fontsize = 15)\n",
    "plt.ylabel('Features', fontsize = 15)\n",
    "\n",
    "plt.show()"
   ]
  },
  {
   "cell_type": "markdown",
   "id": "60fa19a8",
   "metadata": {},
   "source": [
    "##### Important features are identified using Random Forest and dropping inconsistent features."
   ]
  },
  {
   "cell_type": "code",
   "execution_count": 36,
   "id": "5b83a00b",
   "metadata": {},
   "outputs": [],
   "source": [
    "X = Features.drop(['region_category_Village',\n",
    "                       'offer_application_preference_Yes',\n",
    "                       'used_special_discount_Yes',\n",
    "                       'preferred_offer_types_Gift Vouchers/Coupons',\n",
    "                       'past_complaint_Yes',\n",
    "                       'preferred_offer_types_Without Offers',\n",
    "                       'medium_of_operation_Smartphone',\n",
    "                       'medium_of_operation_Desktop',\n",
    "                       'internet_option_Wi-Fi',\n",
    "                       'internet_option_Mobile_Data',\n",
    "                       'region_category_Town',\n",
    "                      ], axis =1)\n",
    "y = Target"
   ]
  },
  {
   "cell_type": "code",
   "execution_count": 37,
   "id": "c323d3d0",
   "metadata": {},
   "outputs": [
    {
     "data": {
      "text/html": [
       "<div>\n",
       "<style scoped>\n",
       "    .dataframe tbody tr th:only-of-type {\n",
       "        vertical-align: middle;\n",
       "    }\n",
       "\n",
       "    .dataframe tbody tr th {\n",
       "        vertical-align: top;\n",
       "    }\n",
       "\n",
       "    .dataframe thead th {\n",
       "        text-align: right;\n",
       "    }\n",
       "</style>\n",
       "<table border=\"1\" class=\"dataframe\">\n",
       "  <thead>\n",
       "    <tr style=\"text-align: right;\">\n",
       "      <th></th>\n",
       "      <th>gender_M</th>\n",
       "      <th>joined_through_referral_Yes</th>\n",
       "      <th>year</th>\n",
       "      <th>membership_category</th>\n",
       "      <th>complaint_status</th>\n",
       "      <th>feedback</th>\n",
       "      <th>age</th>\n",
       "      <th>days_since_last_login</th>\n",
       "      <th>avg_time_spent</th>\n",
       "      <th>avg_transaction_value</th>\n",
       "      <th>avg_frequency_login_days</th>\n",
       "      <th>points_in_wallet</th>\n",
       "    </tr>\n",
       "  </thead>\n",
       "  <tbody>\n",
       "    <tr>\n",
       "      <th>0</th>\n",
       "      <td>0</td>\n",
       "      <td>0</td>\n",
       "      <td>4</td>\n",
       "      <td>4.0</td>\n",
       "      <td>1.0</td>\n",
       "      <td>4</td>\n",
       "      <td>-1.209342</td>\n",
       "      <td>0.756268</td>\n",
       "      <td>0.098431</td>\n",
       "      <td>1.566300</td>\n",
       "      <td>1.032977</td>\n",
       "      <td>0.435508</td>\n",
       "    </tr>\n",
       "    <tr>\n",
       "      <th>1</th>\n",
       "      <td>0</td>\n",
       "      <td>0</td>\n",
       "      <td>4</td>\n",
       "      <td>5.0</td>\n",
       "      <td>3.0</td>\n",
       "      <td>5</td>\n",
       "      <td>-0.326297</td>\n",
       "      <td>0.573495</td>\n",
       "      <td>-0.849870</td>\n",
       "      <td>-0.883072</td>\n",
       "      <td>-1.090570</td>\n",
       "      <td>0.465956</td>\n",
       "    </tr>\n",
       "    <tr>\n",
       "      <th>2</th>\n",
       "      <td>0</td>\n",
       "      <td>1</td>\n",
       "      <td>5</td>\n",
       "      <td>0.0</td>\n",
       "      <td>4.0</td>\n",
       "      <td>3</td>\n",
       "      <td>0.430599</td>\n",
       "      <td>0.207949</td>\n",
       "      <td>0.775788</td>\n",
       "      <td>-0.383731</td>\n",
       "      <td>-1.992103</td>\n",
       "      <td>1.584823</td>\n",
       "    </tr>\n",
       "    <tr>\n",
       "      <th>3</th>\n",
       "      <td>1</td>\n",
       "      <td>1</td>\n",
       "      <td>5</td>\n",
       "      <td>0.0</td>\n",
       "      <td>2.0</td>\n",
       "      <td>3</td>\n",
       "      <td>-0.010923</td>\n",
       "      <td>-0.340370</td>\n",
       "      <td>-1.391756</td>\n",
       "      <td>-0.126849</td>\n",
       "      <td>-1.271298</td>\n",
       "      <td>-0.883541</td>\n",
       "    </tr>\n",
       "    <tr>\n",
       "      <th>4</th>\n",
       "      <td>0</td>\n",
       "      <td>0</td>\n",
       "      <td>4</td>\n",
       "      <td>0.0</td>\n",
       "      <td>3.0</td>\n",
       "      <td>3</td>\n",
       "      <td>-0.389371</td>\n",
       "      <td>1.304586</td>\n",
       "      <td>-0.037041</td>\n",
       "      <td>-0.172944</td>\n",
       "      <td>-0.244497</td>\n",
       "      <td>-0.564337</td>\n",
       "    </tr>\n",
       "    <tr>\n",
       "      <th>...</th>\n",
       "      <td>...</td>\n",
       "      <td>...</td>\n",
       "      <td>...</td>\n",
       "      <td>...</td>\n",
       "      <td>...</td>\n",
       "      <td>...</td>\n",
       "      <td>...</td>\n",
       "      <td>...</td>\n",
       "      <td>...</td>\n",
       "      <td>...</td>\n",
       "      <td>...</td>\n",
       "      <td>...</td>\n",
       "    </tr>\n",
       "    <tr>\n",
       "      <th>28768</th>\n",
       "      <td>1</td>\n",
       "      <td>1</td>\n",
       "      <td>6</td>\n",
       "      <td>4.0</td>\n",
       "      <td>1.0</td>\n",
       "      <td>0</td>\n",
       "      <td>-0.641670</td>\n",
       "      <td>0.025176</td>\n",
       "      <td>-0.037041</td>\n",
       "      <td>-1.164354</td>\n",
       "      <td>0.675857</td>\n",
       "      <td>-0.443289</td>\n",
       "    </tr>\n",
       "    <tr>\n",
       "      <th>28769</th>\n",
       "      <td>0</td>\n",
       "      <td>0</td>\n",
       "      <td>4</td>\n",
       "      <td>1.0</td>\n",
       "      <td>0.0</td>\n",
       "      <td>0</td>\n",
       "      <td>0.556749</td>\n",
       "      <td>-1.985326</td>\n",
       "      <td>-1.391756</td>\n",
       "      <td>-0.002565</td>\n",
       "      <td>-0.497968</td>\n",
       "      <td>1.312225</td>\n",
       "    </tr>\n",
       "    <tr>\n",
       "      <th>28770</th>\n",
       "      <td>0</td>\n",
       "      <td>0</td>\n",
       "      <td>5</td>\n",
       "      <td>1.0</td>\n",
       "      <td>1.0</td>\n",
       "      <td>1</td>\n",
       "      <td>-0.515521</td>\n",
       "      <td>0.025176</td>\n",
       "      <td>1.588617</td>\n",
       "      <td>-0.990926</td>\n",
       "      <td>-1.698270</td>\n",
       "      <td>0.260637</td>\n",
       "    </tr>\n",
       "    <tr>\n",
       "      <th>28771</th>\n",
       "      <td>0</td>\n",
       "      <td>1</td>\n",
       "      <td>5</td>\n",
       "      <td>1.0</td>\n",
       "      <td>2.0</td>\n",
       "      <td>3</td>\n",
       "      <td>-0.893969</td>\n",
       "      <td>-0.157597</td>\n",
       "      <td>-0.488613</td>\n",
       "      <td>0.659060</td>\n",
       "      <td>-0.057111</td>\n",
       "      <td>-0.341385</td>\n",
       "    </tr>\n",
       "    <tr>\n",
       "      <th>28772</th>\n",
       "      <td>1</td>\n",
       "      <td>0</td>\n",
       "      <td>6</td>\n",
       "      <td>2.0</td>\n",
       "      <td>1.0</td>\n",
       "      <td>5</td>\n",
       "      <td>-0.137073</td>\n",
       "      <td>0.390722</td>\n",
       "      <td>-0.759556</td>\n",
       "      <td>-1.532429</td>\n",
       "      <td>0.368032</td>\n",
       "      <td>-0.745376</td>\n",
       "    </tr>\n",
       "  </tbody>\n",
       "</table>\n",
       "<p>28773 rows × 12 columns</p>\n",
       "</div>"
      ],
      "text/plain": [
       "       gender_M  joined_through_referral_Yes  year  membership_category  \\\n",
       "0             0                            0     4                  4.0   \n",
       "1             0                            0     4                  5.0   \n",
       "2             0                            1     5                  0.0   \n",
       "3             1                            1     5                  0.0   \n",
       "4             0                            0     4                  0.0   \n",
       "...         ...                          ...   ...                  ...   \n",
       "28768         1                            1     6                  4.0   \n",
       "28769         0                            0     4                  1.0   \n",
       "28770         0                            0     5                  1.0   \n",
       "28771         0                            1     5                  1.0   \n",
       "28772         1                            0     6                  2.0   \n",
       "\n",
       "       complaint_status  feedback       age  days_since_last_login  \\\n",
       "0                   1.0         4 -1.209342               0.756268   \n",
       "1                   3.0         5 -0.326297               0.573495   \n",
       "2                   4.0         3  0.430599               0.207949   \n",
       "3                   2.0         3 -0.010923              -0.340370   \n",
       "4                   3.0         3 -0.389371               1.304586   \n",
       "...                 ...       ...       ...                    ...   \n",
       "28768               1.0         0 -0.641670               0.025176   \n",
       "28769               0.0         0  0.556749              -1.985326   \n",
       "28770               1.0         1 -0.515521               0.025176   \n",
       "28771               2.0         3 -0.893969              -0.157597   \n",
       "28772               1.0         5 -0.137073               0.390722   \n",
       "\n",
       "       avg_time_spent  avg_transaction_value  avg_frequency_login_days  \\\n",
       "0            0.098431               1.566300                  1.032977   \n",
       "1           -0.849870              -0.883072                 -1.090570   \n",
       "2            0.775788              -0.383731                 -1.992103   \n",
       "3           -1.391756              -0.126849                 -1.271298   \n",
       "4           -0.037041              -0.172944                 -0.244497   \n",
       "...               ...                    ...                       ...   \n",
       "28768       -0.037041              -1.164354                  0.675857   \n",
       "28769       -1.391756              -0.002565                 -0.497968   \n",
       "28770        1.588617              -0.990926                 -1.698270   \n",
       "28771       -0.488613               0.659060                 -0.057111   \n",
       "28772       -0.759556              -1.532429                  0.368032   \n",
       "\n",
       "       points_in_wallet  \n",
       "0              0.435508  \n",
       "1              0.465956  \n",
       "2              1.584823  \n",
       "3             -0.883541  \n",
       "4             -0.564337  \n",
       "...                 ...  \n",
       "28768         -0.443289  \n",
       "28769          1.312225  \n",
       "28770          0.260637  \n",
       "28771         -0.341385  \n",
       "28772         -0.745376  \n",
       "\n",
       "[28773 rows x 12 columns]"
      ]
     },
     "execution_count": 37,
     "metadata": {},
     "output_type": "execute_result"
    }
   ],
   "source": [
    "X"
   ]
  },
  {
   "cell_type": "code",
   "execution_count": 38,
   "id": "cab5492d",
   "metadata": {},
   "outputs": [
    {
     "data": {
      "text/plain": [
       "((23018, 12), (5755, 12))"
      ]
     },
     "execution_count": 38,
     "metadata": {},
     "output_type": "execute_result"
    }
   ],
   "source": [
    "# separate dataset into train and test\n",
    "\n",
    "X_train, X_test, y_train, y_test = train_test_split(X,y,test_size=0.2,random_state=42)\n",
    "X_train.shape, X_test.shape\n"
   ]
  },
  {
   "cell_type": "markdown",
   "id": "1edcedf2",
   "metadata": {},
   "source": [
    "### Create Functions for Model Training and Evaluation"
   ]
  },
  {
   "cell_type": "code",
   "execution_count": 39,
   "id": "81e68832",
   "metadata": {},
   "outputs": [],
   "source": [
    "def evaluate_model(true, predicted):\n",
    "    '''\n",
    "    This function takes in true values and predicted values\n",
    "    Returns: Accuracy, F1-Score, Precision, Recall, Roc-auc Score\n",
    "    '''\n",
    "    acc = accuracy_score(true, predicted) # Calculate Accuracy\n",
    "    f1 = f1_score(true, predicted) # Calculate F1-score\n",
    "    precision = precision_score(true, predicted) # Calculate Precision\n",
    "    recall = recall_score(true, predicted)  # Calculate Recall\n",
    "    roc_auc = roc_auc_score(true, predicted) #Calculate Roc\n",
    "    return acc, f1 , precision, recall, roc_auc"
   ]
  },
  {
   "cell_type": "code",
   "execution_count": 40,
   "id": "83fec155",
   "metadata": {},
   "outputs": [],
   "source": [
    "clf1 = XGBClassifier(random_state=7)\n",
    "clf2 = CatBoostClassifier(verbose=False)\n",
    "clf3 = AdaBoostClassifier(n_estimators=250, learning_rate = 0.01,random_state=7)\n",
    "clf4 = RandomForestClassifier(random_state=7)"
   ]
  },
  {
   "cell_type": "code",
   "execution_count": 41,
   "id": "45077d61",
   "metadata": {},
   "outputs": [],
   "source": [
    "vclf1 = VotingClassifier(estimators=[('XGB', clf1), ('CatBoost', clf2), ('AdaBoost' , clf3)],\n",
    "                                   voting='soft')"
   ]
  },
  {
   "cell_type": "code",
   "execution_count": 42,
   "id": "9a90eff9",
   "metadata": {},
   "outputs": [],
   "source": [
    "vclf2 = VotingClassifier(estimators=[('XGB', clf1), ('CatBoost', clf2), ('RF' , clf4)],\n",
    "                                   voting='soft')"
   ]
  },
  {
   "cell_type": "code",
   "execution_count": 43,
   "id": "fdb1bfd4",
   "metadata": {},
   "outputs": [],
   "source": [
    "models = {\n",
    "    \"Random Forest\": RandomForestClassifier(random_state=7),\n",
    "    \"Decision Tree\": DecisionTreeClassifier(random_state=7),\n",
    "    \"Gradient Boosting\": GradientBoostingClassifier(random_state=7),\n",
    "    \"Logistic Regression\": LogisticRegression(random_state=7),\n",
    "    \"K-Neighbors Classifier\": KNeighborsClassifier(),\n",
    "    \"XGBClassifier\": XGBClassifier(random_state=7), \n",
    "    \"CatBoosting Classifier\": CatBoostClassifier(verbose=False),\n",
    "    \"AdaBoost Classifier\": AdaBoostClassifier(random_state=7),\n",
    "    \"Gaussian NB\" : GaussianNB(),\n",
    "    \"SVC\" : SVC(random_state=7),\n",
    "    \"vclf1\" : vclf1,\n",
    "    \"vclf2\" : vclf2\n",
    "    \n",
    "}"
   ]
  },
  {
   "cell_type": "markdown",
   "id": "3a98f891",
   "metadata": {},
   "source": [
    "### Evaluation of all basic models"
   ]
  },
  {
   "cell_type": "code",
   "execution_count": 44,
   "id": "b26d7486",
   "metadata": {},
   "outputs": [
    {
     "name": "stdout",
     "output_type": "stream",
     "text": [
      "Random Forest\n",
      "Model performance for Test set\n",
      "- Accuracy: 0.9401\n",
      "- F1 score: 0.9466\n",
      "- Precision: 0.9394\n",
      "- Recall: 0.9538\n",
      "- Roc Auc Score: 0.9383\n",
      "===================================\n",
      "\n",
      "\n",
      "Decision Tree\n",
      "Model performance for Test set\n",
      "- Accuracy: 0.9048\n",
      "- F1 score: 0.9140\n",
      "- Precision: 0.9192\n",
      "- Recall: 0.9089\n",
      "- Roc Auc Score: 0.9043\n",
      "===================================\n",
      "\n",
      "\n",
      "Gradient Boosting\n",
      "Model performance for Test set\n",
      "- Accuracy: 0.9390\n",
      "- F1 score: 0.9453\n",
      "- Precision: 0.9445\n",
      "- Recall: 0.9460\n",
      "- Roc Auc Score: 0.9381\n",
      "===================================\n",
      "\n",
      "\n",
      "Logistic Regression\n",
      "Model performance for Test set\n",
      "- Accuracy: 0.8598\n",
      "- F1 score: 0.8735\n",
      "- Precision: 0.8772\n",
      "- Recall: 0.8699\n",
      "- Roc Auc Score: 0.8585\n",
      "===================================\n",
      "\n",
      "\n",
      "K-Neighbors Classifier\n",
      "Model performance for Test set\n",
      "- Accuracy: 0.9008\n",
      "- F1 score: 0.9121\n",
      "- Precision: 0.8998\n",
      "- Recall: 0.9248\n",
      "- Roc Auc Score: 0.8977\n",
      "===================================\n",
      "\n",
      "\n",
      "XGBClassifier\n",
      "Model performance for Test set\n",
      "- Accuracy: 0.9376\n",
      "- F1 score: 0.9450\n",
      "- Precision: 0.9286\n",
      "- Recall: 0.9619\n",
      "- Roc Auc Score: 0.9345\n",
      "===================================\n",
      "\n",
      "\n",
      "CatBoosting Classifier\n",
      "Model performance for Test set\n",
      "- Accuracy: 0.9387\n",
      "- F1 score: 0.9459\n",
      "- Precision: 0.9298\n",
      "- Recall: 0.9625\n",
      "- Roc Auc Score: 0.9356\n",
      "===================================\n",
      "\n",
      "\n",
      "AdaBoost Classifier\n",
      "Model performance for Test set\n",
      "- Accuracy: 0.9267\n",
      "- F1 score: 0.9358\n",
      "- Precision: 0.9123\n",
      "- Recall: 0.9607\n",
      "- Roc Auc Score: 0.9223\n",
      "===================================\n",
      "\n",
      "\n",
      "Gaussian NB\n",
      "Model performance for Test set\n",
      "- Accuracy: 0.8652\n",
      "- F1 score: 0.8781\n",
      "- Precision: 0.8839\n",
      "- Recall: 0.8723\n",
      "- Roc Auc Score: 0.8642\n",
      "===================================\n",
      "\n",
      "\n",
      "SVC\n",
      "Model performance for Test set\n",
      "- Accuracy: 0.9011\n",
      "- F1 score: 0.9126\n",
      "- Precision: 0.8986\n",
      "- Recall: 0.9270\n",
      "- Roc Auc Score: 0.8978\n",
      "===================================\n",
      "\n",
      "\n",
      "vclf1\n",
      "Model performance for Test set\n",
      "- Accuracy: 0.9373\n",
      "- F1 score: 0.9446\n",
      "- Precision: 0.9291\n",
      "- Recall: 0.9607\n",
      "- Roc Auc Score: 0.9343\n",
      "===================================\n",
      "\n",
      "\n",
      "vclf2\n",
      "Model performance for Test set\n",
      "- Accuracy: 0.9387\n",
      "- F1 score: 0.9458\n",
      "- Precision: 0.9316\n",
      "- Recall: 0.9604\n",
      "- Roc Auc Score: 0.9359\n",
      "===================================\n",
      "\n",
      "\n"
     ]
    }
   ],
   "source": [
    "model_list = []\n",
    "accuracy_list = []\n",
    "recall_list =[]\n",
    "\n",
    "for i in range(len(list(models))):\n",
    "    model = list(models.values())[i]\n",
    "    model.fit(X_train, y_train) # Train model\n",
    "\n",
    "    # Make predictions\n",
    "    y_test_pred = model.predict(X_test)\n",
    "    \n",
    "    # Test set performance\n",
    "    model_test_accuracy,model_test_f1,model_test_precision,\\\n",
    "    model_test_recall,model_test_rocauc_score=evaluate_model(y_test, y_test_pred)\n",
    "    test_evaluate = evaluate_model(y_test, y_test_pred)    \n",
    "    \n",
    "    print(list(models.keys())[i])\n",
    "    model_list.append(list(models.keys())[i])\n",
    "        \n",
    "    print('Model performance for Test set')\n",
    "    print('- Accuracy: {:.4f}'.format(model_test_accuracy))\n",
    "    print('- F1 score: {:.4f}'.format(model_test_f1))\n",
    "    print('- Precision: {:.4f}'.format(model_test_precision))\n",
    "    print('- Recall: {:.4f}'.format(model_test_recall))\n",
    "    print('- Roc Auc Score: {:.4f}'.format(model_test_rocauc_score))\n",
    "    accuracy_list.append(model_test_accuracy)\n",
    "    recall_list.append(model_test_recall)\n",
    "    \n",
    "    print('='*35)\n",
    "    print('\\n')\n",
    "    \n",
    "   "
   ]
  },
  {
   "cell_type": "code",
   "execution_count": 45,
   "id": "f0e88468",
   "metadata": {},
   "outputs": [
    {
     "data": {
      "text/html": [
       "<div>\n",
       "<style scoped>\n",
       "    .dataframe tbody tr th:only-of-type {\n",
       "        vertical-align: middle;\n",
       "    }\n",
       "\n",
       "    .dataframe tbody tr th {\n",
       "        vertical-align: top;\n",
       "    }\n",
       "\n",
       "    .dataframe thead th {\n",
       "        text-align: right;\n",
       "    }\n",
       "</style>\n",
       "<table border=\"1\" class=\"dataframe\">\n",
       "  <thead>\n",
       "    <tr style=\"text-align: right;\">\n",
       "      <th></th>\n",
       "      <th>Model Name</th>\n",
       "      <th>Accuracy</th>\n",
       "      <th>Recall</th>\n",
       "    </tr>\n",
       "  </thead>\n",
       "  <tbody>\n",
       "    <tr>\n",
       "      <th>6</th>\n",
       "      <td>CatBoosting Classifier</td>\n",
       "      <td>0.938662</td>\n",
       "      <td>0.962547</td>\n",
       "    </tr>\n",
       "    <tr>\n",
       "      <th>5</th>\n",
       "      <td>XGBClassifier</td>\n",
       "      <td>0.937619</td>\n",
       "      <td>0.961923</td>\n",
       "    </tr>\n",
       "    <tr>\n",
       "      <th>7</th>\n",
       "      <td>AdaBoost Classifier</td>\n",
       "      <td>0.926672</td>\n",
       "      <td>0.960674</td>\n",
       "    </tr>\n",
       "    <tr>\n",
       "      <th>10</th>\n",
       "      <td>vclf1</td>\n",
       "      <td>0.937272</td>\n",
       "      <td>0.960674</td>\n",
       "    </tr>\n",
       "    <tr>\n",
       "      <th>11</th>\n",
       "      <td>vclf2</td>\n",
       "      <td>0.938662</td>\n",
       "      <td>0.960362</td>\n",
       "    </tr>\n",
       "    <tr>\n",
       "      <th>0</th>\n",
       "      <td>Random Forest</td>\n",
       "      <td>0.940052</td>\n",
       "      <td>0.953808</td>\n",
       "    </tr>\n",
       "    <tr>\n",
       "      <th>2</th>\n",
       "      <td>Gradient Boosting</td>\n",
       "      <td>0.939010</td>\n",
       "      <td>0.946005</td>\n",
       "    </tr>\n",
       "    <tr>\n",
       "      <th>9</th>\n",
       "      <td>SVC</td>\n",
       "      <td>0.901129</td>\n",
       "      <td>0.926966</td>\n",
       "    </tr>\n",
       "    <tr>\n",
       "      <th>4</th>\n",
       "      <td>K-Neighbors Classifier</td>\n",
       "      <td>0.900782</td>\n",
       "      <td>0.924782</td>\n",
       "    </tr>\n",
       "    <tr>\n",
       "      <th>1</th>\n",
       "      <td>Decision Tree</td>\n",
       "      <td>0.904778</td>\n",
       "      <td>0.908864</td>\n",
       "    </tr>\n",
       "    <tr>\n",
       "      <th>8</th>\n",
       "      <td>Gaussian NB</td>\n",
       "      <td>0.865161</td>\n",
       "      <td>0.872347</td>\n",
       "    </tr>\n",
       "    <tr>\n",
       "      <th>3</th>\n",
       "      <td>Logistic Regression</td>\n",
       "      <td>0.859774</td>\n",
       "      <td>0.869850</td>\n",
       "    </tr>\n",
       "  </tbody>\n",
       "</table>\n",
       "</div>"
      ],
      "text/plain": [
       "                Model Name  Accuracy    Recall\n",
       "6   CatBoosting Classifier  0.938662  0.962547\n",
       "5            XGBClassifier  0.937619  0.961923\n",
       "7      AdaBoost Classifier  0.926672  0.960674\n",
       "10                   vclf1  0.937272  0.960674\n",
       "11                   vclf2  0.938662  0.960362\n",
       "0            Random Forest  0.940052  0.953808\n",
       "2        Gradient Boosting  0.939010  0.946005\n",
       "9                      SVC  0.901129  0.926966\n",
       "4   K-Neighbors Classifier  0.900782  0.924782\n",
       "1            Decision Tree  0.904778  0.908864\n",
       "8              Gaussian NB  0.865161  0.872347\n",
       "3      Logistic Regression  0.859774  0.869850"
      ]
     },
     "execution_count": 45,
     "metadata": {},
     "output_type": "execute_result"
    }
   ],
   "source": [
    "pd.DataFrame(list(zip(model_list,accuracy_list, recall_list)), columns=['Model Name',\"Accuracy\" ,'Recall']).sort_values(by=[\"Recall\"],ascending=False)\n",
    "        \n"
   ]
  },
  {
   "cell_type": "markdown",
   "id": "960417d2",
   "metadata": {},
   "source": [
    "### XGBoost HyperParameter Tuning with Optuna"
   ]
  },
  {
   "cell_type": "code",
   "execution_count": 46,
   "id": "c99262b6",
   "metadata": {},
   "outputs": [],
   "source": [
    "def objective(trial):\n",
    "    \"\"\"Define the objective function\"\"\"\n",
    "\n",
    "    params = {\n",
    "        'max_depth': trial.suggest_int('max_depth', 1, 9),\n",
    "        'learning_rate': trial.suggest_loguniform('learning_rate', 0.01, 1.0),\n",
    "        'n_estimators': trial.suggest_int('n_estimators', 50, 500),\n",
    "        'min_child_weight': trial.suggest_int('min_child_weight', 1, 10),\n",
    "        'gamma': trial.suggest_loguniform('gamma', 1e-8, 1.0),\n",
    "        'subsample': trial.suggest_loguniform('subsample', 0.01, 1.0),\n",
    "        'colsample_bytree': trial.suggest_loguniform('colsample_bytree', 0.01, 1.0),\n",
    "        'reg_alpha': trial.suggest_loguniform('reg_alpha', 1e-8, 1.0),\n",
    "        'reg_lambda': trial.suggest_loguniform('reg_lambda', 1e-8, 1.0),\n",
    "        'eval_metric': 'mlogloss',\n",
    "        'use_label_encoder': False\n",
    "    }\n",
    "\n",
    "    # Fit the model\n",
    "    optuna_model = XGBClassifier(**params)\n",
    "    optuna_model.fit(X_train, y_train)\n",
    "\n",
    "    # Make predictions\n",
    "    y_pred = optuna_model.predict(X_test)\n",
    "    \n",
    "    # Test set performance\n",
    "    model_test_accuracy,model_test_f1,model_test_precision,\\\n",
    "    model_test_recall,model_test_rocauc_score=evaluate_model(y_test, y_pred)\n",
    "    \n",
    "    model_recall = model_test_recall\n",
    "    return model_recall"
   ]
  },
  {
   "cell_type": "code",
   "execution_count": 47,
   "id": "be9c6f04",
   "metadata": {},
   "outputs": [
    {
     "name": "stderr",
     "output_type": "stream",
     "text": [
      "\u001b[32m[I 2023-04-03 23:42:08,813]\u001b[0m A new study created in memory with name: no-name-a03a4a7e-a1d0-46f8-abde-1d9fc6c99ac1\u001b[0m\n"
     ]
    }
   ],
   "source": [
    "study = optuna.create_study(direction='maximize')"
   ]
  },
  {
   "cell_type": "code",
   "execution_count": 48,
   "id": "ef469561",
   "metadata": {},
   "outputs": [
    {
     "name": "stderr",
     "output_type": "stream",
     "text": [
      "\u001b[32m[I 2023-04-03 23:42:09,846]\u001b[0m Trial 0 finished with value: 0.9416354556803995 and parameters: {'max_depth': 1, 'learning_rate': 0.11547248295146642, 'n_estimators': 208, 'min_child_weight': 4, 'gamma': 0.06568547126593641, 'subsample': 0.8036283930194468, 'colsample_bytree': 0.04425669102841182, 'reg_alpha': 0.0045000006533531985, 'reg_lambda': 7.691836854151863e-08}. Best is trial 0 with value: 0.9416354556803995.\u001b[0m\n",
      "\u001b[32m[I 2023-04-03 23:42:10,610]\u001b[0m Trial 1 finished with value: 0.9753433208489388 and parameters: {'max_depth': 9, 'learning_rate': 0.04229364350489049, 'n_estimators': 52, 'min_child_weight': 3, 'gamma': 7.280454740008975e-05, 'subsample': 0.4613353610883611, 'colsample_bytree': 0.017390882543029937, 'reg_alpha': 6.980068988092405e-05, 'reg_lambda': 1.2796137896077143e-06}. Best is trial 1 with value: 0.9753433208489388.\u001b[0m\n",
      "\u001b[32m[I 2023-04-03 23:42:15,408]\u001b[0m Trial 2 finished with value: 0.9547440699126092 and parameters: {'max_depth': 7, 'learning_rate': 0.22894510543235028, 'n_estimators': 435, 'min_child_weight': 10, 'gamma': 0.018866806520183133, 'subsample': 0.8082686304689078, 'colsample_bytree': 0.022308370549014772, 'reg_alpha': 0.0847297479509102, 'reg_lambda': 0.44775738542439414}. Best is trial 1 with value: 0.9753433208489388.\u001b[0m\n",
      "\u001b[32m[I 2023-04-03 23:42:16,056]\u001b[0m Trial 3 finished with value: 0.950374531835206 and parameters: {'max_depth': 8, 'learning_rate': 0.1006225996170056, 'n_estimators': 98, 'min_child_weight': 9, 'gamma': 0.04981607726271453, 'subsample': 0.018473353510421564, 'colsample_bytree': 0.8730961193256931, 'reg_alpha': 1.0000447725433217e-08, 'reg_lambda': 0.6991250721887624}. Best is trial 1 with value: 0.9753433208489388.\u001b[0m\n",
      "\u001b[32m[I 2023-04-03 23:42:18,605]\u001b[0m Trial 4 finished with value: 0.966916354556804 and parameters: {'max_depth': 9, 'learning_rate': 0.012081862973277659, 'n_estimators': 165, 'min_child_weight': 4, 'gamma': 0.002232536861207874, 'subsample': 0.29504091245489583, 'colsample_bytree': 0.21384052095845366, 'reg_alpha': 0.008441480004554653, 'reg_lambda': 0.003775480687623407}. Best is trial 1 with value: 0.9753433208489388.\u001b[0m\n",
      "\u001b[32m[I 2023-04-03 23:42:19,870]\u001b[0m Trial 5 finished with value: 0.9460049937578028 and parameters: {'max_depth': 7, 'learning_rate': 0.1169558867776363, 'n_estimators': 256, 'min_child_weight': 8, 'gamma': 0.021311181462249196, 'subsample': 0.011489822719488568, 'colsample_bytree': 0.6088748000368853, 'reg_alpha': 0.10350967003481835, 'reg_lambda': 2.50122547809778e-08}. Best is trial 1 with value: 0.9753433208489388.\u001b[0m\n",
      "\u001b[32m[I 2023-04-03 23:42:21,225]\u001b[0m Trial 6 finished with value: 0.9868913857677902 and parameters: {'max_depth': 9, 'learning_rate': 0.010387353008554832, 'n_estimators': 178, 'min_child_weight': 10, 'gamma': 0.038227547490185185, 'subsample': 0.04997931500702256, 'colsample_bytree': 0.022485954192765525, 'reg_alpha': 0.2870032123028149, 'reg_lambda': 0.008929155302674211}. Best is trial 6 with value: 0.9868913857677902.\u001b[0m\n",
      "\u001b[32m[I 2023-04-03 23:42:23,190]\u001b[0m Trial 7 finished with value: 0.9435081148564295 and parameters: {'max_depth': 2, 'learning_rate': 0.04200037545062672, 'n_estimators': 305, 'min_child_weight': 9, 'gamma': 0.0026799893010500623, 'subsample': 0.5289768458298627, 'colsample_bytree': 0.015247413163371998, 'reg_alpha': 3.3329044319829625e-05, 'reg_lambda': 4.119227896722789e-07}. Best is trial 6 with value: 0.9868913857677902.\u001b[0m\n",
      "\u001b[32m[I 2023-04-03 23:42:26,127]\u001b[0m Trial 8 finished with value: 0.9497503121098627 and parameters: {'max_depth': 6, 'learning_rate': 0.03408074471447399, 'n_estimators': 307, 'min_child_weight': 2, 'gamma': 0.01309980971761689, 'subsample': 0.3662918997279295, 'colsample_bytree': 0.03830898949025334, 'reg_alpha': 8.471669637846716e-08, 'reg_lambda': 0.0002464514281017143}. Best is trial 6 with value: 0.9868913857677902.\u001b[0m\n",
      "\u001b[32m[I 2023-04-03 23:42:26,825]\u001b[0m Trial 9 finished with value: 0.9435081148564295 and parameters: {'max_depth': 2, 'learning_rate': 0.05424254845811247, 'n_estimators': 115, 'min_child_weight': 3, 'gamma': 2.709940280584656e-06, 'subsample': 0.11540258879539968, 'colsample_bytree': 0.5282813475004635, 'reg_alpha': 0.0035203036370050267, 'reg_lambda': 0.04586310664271728}. Best is trial 6 with value: 0.9868913857677902.\u001b[0m\n",
      "\u001b[32m[I 2023-04-03 23:42:28,950]\u001b[0m Trial 10 finished with value: 0.9297752808988764 and parameters: {'max_depth': 4, 'learning_rate': 0.8183016827627769, 'n_estimators': 415, 'min_child_weight': 7, 'gamma': 0.7855161751663834, 'subsample': 0.035082380663349504, 'colsample_bytree': 0.010590040625334578, 'reg_alpha': 0.15233255810476057, 'reg_lambda': 3.434524636103484e-05}. Best is trial 6 with value: 0.9868913857677902.\u001b[0m\n",
      "\u001b[32m[I 2023-04-03 23:42:29,579]\u001b[0m Trial 11 finished with value: 0.9900124843945068 and parameters: {'max_depth': 9, 'learning_rate': 0.012053793497154033, 'n_estimators': 54, 'min_child_weight': 1, 'gamma': 7.061142623448613e-05, 'subsample': 0.10584460722716903, 'colsample_bytree': 0.06916383461989667, 'reg_alpha': 5.9133632134025705e-05, 'reg_lambda': 3.160177634988579e-06}. Best is trial 11 with value: 0.9900124843945068.\u001b[0m\n",
      "\u001b[32m[I 2023-04-03 23:42:30,665]\u001b[0m Trial 12 finished with value: 0.9906367041198502 and parameters: {'max_depth': 5, 'learning_rate': 0.010872279675903252, 'n_estimators': 141, 'min_child_weight': 1, 'gamma': 1.1471238282903368e-08, 'subsample': 0.07077486063368742, 'colsample_bytree': 0.07243060386390768, 'reg_alpha': 6.031808286099722e-06, 'reg_lambda': 1.7096269396710682e-05}. Best is trial 12 with value: 0.9906367041198502.\u001b[0m\n",
      "\u001b[32m[I 2023-04-03 23:42:31,164]\u001b[0m Trial 13 finished with value: 0.9875156054931336 and parameters: {'max_depth': 4, 'learning_rate': 0.019415404987495215, 'n_estimators': 50, 'min_child_weight': 1, 'gamma': 1.919871083293764e-08, 'subsample': 0.1253009769094319, 'colsample_bytree': 0.09198279506520365, 'reg_alpha': 4.624713685346948e-06, 'reg_lambda': 1.0916032612119507e-05}. Best is trial 12 with value: 0.9906367041198502.\u001b[0m\n",
      "\u001b[32m[I 2023-04-03 23:42:32,164]\u001b[0m Trial 14 finished with value: 0.9878277153558053 and parameters: {'max_depth': 5, 'learning_rate': 0.018764256766209356, 'n_estimators': 124, 'min_child_weight': 1, 'gamma': 4.9249122521320455e-08, 'subsample': 0.0721609569107448, 'colsample_bytree': 0.10449908752151263, 'reg_alpha': 2.123763992233709e-06, 'reg_lambda': 1.6610265935112317e-06}. Best is trial 12 with value: 0.9906367041198502.\u001b[0m\n",
      "\u001b[32m[I 2023-04-03 23:42:33,978]\u001b[0m Trial 15 finished with value: 0.967852684144819 and parameters: {'max_depth': 5, 'learning_rate': 0.01911742094957219, 'n_estimators': 239, 'min_child_weight': 5, 'gamma': 5.052663626371728e-07, 'subsample': 0.14229603815703462, 'colsample_bytree': 0.08629881488122494, 'reg_alpha': 0.0003114610841719711, 'reg_lambda': 0.0002561603725328553}. Best is trial 12 with value: 0.9906367041198502.\u001b[0m\n",
      "\u001b[32m[I 2023-04-03 23:42:37,281]\u001b[0m Trial 16 finished with value: 0.9647315855181023 and parameters: {'max_depth': 4, 'learning_rate': 0.011882596127361585, 'n_estimators': 496, 'min_child_weight': 6, 'gamma': 2.6058626275559146e-05, 'subsample': 0.1864736302819848, 'colsample_bytree': 0.05066666085147419, 'reg_alpha': 2.2713222825162174e-06, 'reg_lambda': 8.234196361206528e-06}. Best is trial 12 with value: 0.9906367041198502.\u001b[0m\n",
      "\u001b[32m[I 2023-04-03 23:42:38,157]\u001b[0m Trial 17 finished with value: 0.9637952559300874 and parameters: {'max_depth': 6, 'learning_rate': 0.02200382546801626, 'n_estimators': 93, 'min_child_weight': 2, 'gamma': 3.755045773997053e-07, 'subsample': 0.058880030858613375, 'colsample_bytree': 0.16856840467585327, 'reg_alpha': 0.0005879485250603543, 'reg_lambda': 2.0939546434818366e-07}. Best is trial 12 with value: 0.9906367041198502.\u001b[0m\n",
      "\u001b[32m[I 2023-04-03 23:42:39,600]\u001b[0m Trial 18 finished with value: 0.9906367041198502 and parameters: {'max_depth': 7, 'learning_rate': 0.011002527454465215, 'n_estimators': 150, 'min_child_weight': 1, 'gamma': 1.0478544261733899e-05, 'subsample': 0.23011479325662065, 'colsample_bytree': 0.06248783650007912, 'reg_alpha': 1.5736745097509546e-05, 'reg_lambda': 9.132199504909365e-05}. Best is trial 12 with value: 0.9906367041198502.\u001b[0m\n"
     ]
    },
    {
     "name": "stderr",
     "output_type": "stream",
     "text": [
      "\u001b[32m[I 2023-04-03 23:42:41,233]\u001b[0m Trial 19 finished with value: 0.9594257178526842 and parameters: {'max_depth': 7, 'learning_rate': 0.030298643984866785, 'n_estimators': 169, 'min_child_weight': 2, 'gamma': 7.1445427156540585e-06, 'subsample': 0.22203065555953627, 'colsample_bytree': 0.032422811775311235, 'reg_alpha': 8.13779549691286e-06, 'reg_lambda': 7.636880781153886e-05}. Best is trial 12 with value: 0.9906367041198502.\u001b[0m\n",
      "\u001b[32m[I 2023-04-03 23:42:44,166]\u001b[0m Trial 20 finished with value: 0.9509987515605494 and parameters: {'max_depth': 6, 'learning_rate': 0.05270436397355072, 'n_estimators': 351, 'min_child_weight': 5, 'gamma': 1.0359674637509045e-07, 'subsample': 0.25165810282800954, 'colsample_bytree': 0.16543405439324435, 'reg_alpha': 7.914535977888166e-07, 'reg_lambda': 0.0006928843538868312}. Best is trial 12 with value: 0.9906367041198502.\u001b[0m\n",
      "\u001b[32m[I 2023-04-03 23:42:45,387]\u001b[0m Trial 21 finished with value: 0.9903245942571786 and parameters: {'max_depth': 8, 'learning_rate': 0.010389281818055629, 'n_estimators': 140, 'min_child_weight': 1, 'gamma': 0.0003228709500907434, 'subsample': 0.08744780285790621, 'colsample_bytree': 0.05356087924104214, 'reg_alpha': 4.195225652096748e-05, 'reg_lambda': 5.914655495320944e-06}. Best is trial 12 with value: 0.9906367041198502.\u001b[0m\n",
      "\u001b[32m[I 2023-04-03 23:42:46,582]\u001b[0m Trial 22 finished with value: 0.9906367041198502 and parameters: {'max_depth': 8, 'learning_rate': 0.010473240910991685, 'n_estimators': 143, 'min_child_weight': 3, 'gamma': 0.0005261458961160857, 'subsample': 0.07380795217939534, 'colsample_bytree': 0.06140907129318821, 'reg_alpha': 1.2744916144707769e-05, 'reg_lambda': 1.4062905536781305e-05}. Best is trial 12 with value: 0.9906367041198502.\u001b[0m\n",
      "\u001b[32m[I 2023-04-03 23:42:48,479]\u001b[0m Trial 23 finished with value: 0.9794007490636704 and parameters: {'max_depth': 7, 'learning_rate': 0.016561159512126822, 'n_estimators': 217, 'min_child_weight': 3, 'gamma': 1.3571783846732061e-08, 'subsample': 0.1685007243965812, 'colsample_bytree': 0.06545969683339488, 'reg_alpha': 4.86326788515873e-07, 'reg_lambda': 3.2304041798938254e-05}. Best is trial 12 with value: 0.9906367041198502.\u001b[0m\n",
      "\u001b[32m[I 2023-04-03 23:42:50,032]\u001b[0m Trial 24 finished with value: 0.9631710362047441 and parameters: {'max_depth': 8, 'learning_rate': 0.026138991491434154, 'n_estimators': 197, 'min_child_weight': 2, 'gamma': 4.6505117915715565e-06, 'subsample': 0.03916894364697647, 'colsample_bytree': 0.031907597370646266, 'reg_alpha': 1.2230718210018688e-05, 'reg_lambda': 2.460306685180633e-05}. Best is trial 12 with value: 0.9906367041198502.\u001b[0m\n",
      "\u001b[32m[I 2023-04-03 23:42:51,153]\u001b[0m Trial 25 finished with value: 0.9862671660424469 and parameters: {'max_depth': 6, 'learning_rate': 0.01553512612195271, 'n_estimators': 145, 'min_child_weight': 4, 'gamma': 6.766899870095398e-07, 'subsample': 0.0765087813614975, 'colsample_bytree': 0.11937923730592225, 'reg_alpha': 1.2689850408446494e-05, 'reg_lambda': 0.00010880602178542371}. Best is trial 12 with value: 0.9906367041198502.\u001b[0m\n",
      "\u001b[32m[I 2023-04-03 23:42:51,764]\u001b[0m Trial 26 finished with value: 0.9847066167290887 and parameters: {'max_depth': 3, 'learning_rate': 0.026117924780487266, 'n_estimators': 88, 'min_child_weight': 3, 'gamma': 0.00027797490186860893, 'subsample': 0.09409119721941892, 'colsample_bytree': 0.07427402787208813, 'reg_alpha': 2.531065809831372e-07, 'reg_lambda': 8.499086081444987e-07}. Best is trial 12 with value: 0.9906367041198502.\u001b[0m\n",
      "\u001b[32m[I 2023-04-03 23:42:54,172]\u001b[0m Trial 27 finished with value: 0.9697253433208489 and parameters: {'max_depth': 8, 'learning_rate': 0.01612440197755836, 'n_estimators': 271, 'min_child_weight': 1, 'gamma': 1.1315743311115404e-07, 'subsample': 0.15403075332006208, 'colsample_bytree': 0.058030113073685184, 'reg_alpha': 0.00013996631236467858, 'reg_lambda': 4.01550996457923e-06}. Best is trial 12 with value: 0.9906367041198502.\u001b[0m\n",
      "\u001b[32m[I 2023-04-03 23:42:55,980]\u001b[0m Trial 28 finished with value: 0.9887640449438202 and parameters: {'max_depth': 5, 'learning_rate': 0.010829134607156607, 'n_estimators': 230, 'min_child_weight': 2, 'gamma': 1.055115411716388e-08, 'subsample': 0.20273481884443031, 'colsample_bytree': 0.0385895816947789, 'reg_alpha': 1.506844742831502e-05, 'reg_lambda': 1.4558311909875466e-05}. Best is trial 12 with value: 0.9906367041198502.\u001b[0m\n",
      "\u001b[32m[I 2023-04-03 23:42:56,856]\u001b[0m Trial 29 finished with value: 0.9338327091136079 and parameters: {'max_depth': 1, 'learning_rate': 0.01508634661657834, 'n_estimators': 194, 'min_child_weight': 4, 'gamma': 1.6686463763146977e-05, 'subsample': 0.05731209916414008, 'colsample_bytree': 0.04395737109941652, 'reg_alpha': 2.3133075863190986e-06, 'reg_lambda': 2.327703999465081e-07}. Best is trial 12 with value: 0.9906367041198502.\u001b[0m\n"
     ]
    }
   ],
   "source": [
    "study.optimize(objective, n_trials=30)"
   ]
  },
  {
   "cell_type": "code",
   "execution_count": 49,
   "id": "d547eb4b",
   "metadata": {},
   "outputs": [
    {
     "name": "stdout",
     "output_type": "stream",
     "text": [
      "Number of finished trials: 30\n",
      "Best trial:\n",
      "  Value: 0.9906367041198502\n",
      "  Params: \n",
      "    max_depth: 5\n",
      "    learning_rate: 0.010872279675903252\n",
      "    n_estimators: 141\n",
      "    min_child_weight: 1\n",
      "    gamma: 1.1471238282903368e-08\n",
      "    subsample: 0.07077486063368742\n",
      "    colsample_bytree: 0.07243060386390768\n",
      "    reg_alpha: 6.031808286099722e-06\n",
      "    reg_lambda: 1.7096269396710682e-05\n"
     ]
    }
   ],
   "source": [
    "print('Number of finished trials: {}'.format(len(study.trials)))\n",
    "print('Best trial:')\n",
    "trial = study.best_trial\n",
    "\n",
    "print('  Value: {}'.format(trial.value))\n",
    "print('  Params: ')\n",
    "\n",
    "for key, value in trial.params.items():\n",
    "    print('    {}: {}'.format(key, value))"
   ]
  },
  {
   "cell_type": "markdown",
   "id": "6aeadb98",
   "metadata": {},
   "source": [
    "### CatBoost HyperParameter Tuning with Optuna"
   ]
  },
  {
   "cell_type": "code",
   "execution_count": 50,
   "id": "77b82819",
   "metadata": {},
   "outputs": [],
   "source": [
    "def objective(trial):\n",
    "\n",
    "    param = {\n",
    "        \"objective\": trial.suggest_categorical(\"objective\", [\"Logloss\", \"CrossEntropy\"]),\n",
    "        \"colsample_bylevel\": trial.suggest_float(\"colsample_bylevel\", 0.01, 0.1),\n",
    "        \"depth\": trial.suggest_int(\"depth\", 1, 12),\n",
    "        \"boosting_type\": trial.suggest_categorical(\"boosting_type\", [\"Ordered\", \"Plain\"]),\n",
    "        \"bootstrap_type\": trial.suggest_categorical(\n",
    "            \"bootstrap_type\", [\"Bayesian\", \"Bernoulli\", \"MVS\"]\n",
    "        ),\n",
    "        \"used_ram_limit\": \"3gb\",\n",
    "    }\n",
    "\n",
    "    if param[\"bootstrap_type\"] == \"Bayesian\":\n",
    "        param[\"bagging_temperature\"] = trial.suggest_float(\"bagging_temperature\", 0, 10)\n",
    "    elif param[\"bootstrap_type\"] == \"Bernoulli\":\n",
    "        param[\"subsample\"] = trial.suggest_float(\"subsample\", 0.1, 1)\n",
    "\n",
    "    gbm = CatBoostClassifier(**param)\n",
    "\n",
    "    gbm.fit(X_train, y_train, verbose=0, early_stopping_rounds=100)\n",
    "\n",
    "    y_pred = gbm.predict(X_test)\n",
    "    \n",
    "    # Test set performance\n",
    "    model_test_accuracy,model_test_f1,model_test_precision,\\\n",
    "    model_test_recall,model_test_rocauc_score=evaluate_model(y_test, y_pred)\n",
    "    \n",
    "    model_recall = model_test_recall\n",
    "    return model_recall"
   ]
  },
  {
   "cell_type": "code",
   "execution_count": 51,
   "id": "d730d667",
   "metadata": {},
   "outputs": [
    {
     "name": "stderr",
     "output_type": "stream",
     "text": [
      "\u001b[32m[I 2023-04-03 23:42:56,948]\u001b[0m A new study created in memory with name: no-name-08dbc9df-aa12-4dbb-b5ac-3722d5b6c753\u001b[0m\n",
      "\u001b[32m[I 2023-04-03 23:43:23,085]\u001b[0m Trial 0 finished with value: 0.9509987515605494 and parameters: {'objective': 'Logloss', 'colsample_bylevel': 0.05465564454285879, 'depth': 4, 'boosting_type': 'Ordered', 'bootstrap_type': 'Bernoulli', 'subsample': 0.6162120026001399}. Best is trial 0 with value: 0.9509987515605494.\u001b[0m\n",
      "\u001b[32m[I 2023-04-03 23:43:48,924]\u001b[0m Trial 1 finished with value: 0.9450686641697877 and parameters: {'objective': 'Logloss', 'colsample_bylevel': 0.0246624112371839, 'depth': 6, 'boosting_type': 'Ordered', 'bootstrap_type': 'Bernoulli', 'subsample': 0.883153046111787}. Best is trial 0 with value: 0.9509987515605494.\u001b[0m\n",
      "\u001b[32m[I 2023-04-03 23:44:15,009]\u001b[0m Trial 2 finished with value: 0.9456928838951311 and parameters: {'objective': 'CrossEntropy', 'colsample_bylevel': 0.02401496209711, 'depth': 7, 'boosting_type': 'Ordered', 'bootstrap_type': 'MVS'}. Best is trial 0 with value: 0.9509987515605494.\u001b[0m\n",
      "\u001b[32m[I 2023-04-03 23:44:43,538]\u001b[0m Trial 3 finished with value: 0.9559925093632958 and parameters: {'objective': 'Logloss', 'colsample_bylevel': 0.07628002147629002, 'depth': 7, 'boosting_type': 'Ordered', 'bootstrap_type': 'MVS'}. Best is trial 3 with value: 0.9559925093632958.\u001b[0m\n",
      "\u001b[32m[I 2023-04-03 23:44:50,680]\u001b[0m Trial 4 finished with value: 0.9616104868913857 and parameters: {'objective': 'Logloss', 'colsample_bylevel': 0.09134097958226649, 'depth': 11, 'boosting_type': 'Plain', 'bootstrap_type': 'Bernoulli', 'subsample': 0.2252262328711795}. Best is trial 4 with value: 0.9616104868913857.\u001b[0m\n",
      "\u001b[32m[I 2023-04-03 23:44:56,680]\u001b[0m Trial 5 finished with value: 0.9460049937578028 and parameters: {'objective': 'CrossEntropy', 'colsample_bylevel': 0.03349757374228416, 'depth': 5, 'boosting_type': 'Plain', 'bootstrap_type': 'MVS'}. Best is trial 4 with value: 0.9616104868913857.\u001b[0m\n",
      "\u001b[32m[I 2023-04-03 23:45:21,856]\u001b[0m Trial 6 finished with value: 0.9609862671660424 and parameters: {'objective': 'Logloss', 'colsample_bylevel': 0.08237734687033253, 'depth': 3, 'boosting_type': 'Ordered', 'bootstrap_type': 'Bernoulli', 'subsample': 0.2554707412016681}. Best is trial 4 with value: 0.9616104868913857.\u001b[0m\n",
      "\u001b[32m[I 2023-04-03 23:45:46,381]\u001b[0m Trial 7 finished with value: 0.9456928838951311 and parameters: {'objective': 'Logloss', 'colsample_bylevel': 0.029510369574744684, 'depth': 11, 'boosting_type': 'Ordered', 'bootstrap_type': 'Bayesian', 'bagging_temperature': 1.2415677238542133}. Best is trial 4 with value: 0.9616104868913857.\u001b[0m\n",
      "\u001b[32m[I 2023-04-03 23:45:54,428]\u001b[0m Trial 8 finished with value: 0.9488139825218477 and parameters: {'objective': 'CrossEntropy', 'colsample_bylevel': 0.08597979950961365, 'depth': 12, 'boosting_type': 'Plain', 'bootstrap_type': 'Bayesian', 'bagging_temperature': 9.4036556993609}. Best is trial 4 with value: 0.9616104868913857.\u001b[0m\n",
      "\u001b[32m[I 2023-04-03 23:46:02,154]\u001b[0m Trial 9 finished with value: 0.9572409488139825 and parameters: {'objective': 'Logloss', 'colsample_bylevel': 0.09228500810811041, 'depth': 10, 'boosting_type': 'Plain', 'bootstrap_type': 'Bernoulli', 'subsample': 0.9520051283052812}. Best is trial 4 with value: 0.9616104868913857.\u001b[0m\n",
      "\u001b[32m[I 2023-04-03 23:46:07,498]\u001b[0m Trial 10 finished with value: 0.954119850187266 and parameters: {'objective': 'CrossEntropy', 'colsample_bylevel': 0.09952761686708544, 'depth': 1, 'boosting_type': 'Plain', 'bootstrap_type': 'Bernoulli', 'subsample': 0.184063542232282}. Best is trial 4 with value: 0.9616104868913857.\u001b[0m\n",
      "\u001b[32m[I 2023-04-03 23:46:12,929]\u001b[0m Trial 11 finished with value: 0.9559925093632958 and parameters: {'objective': 'Logloss', 'colsample_bylevel': 0.07406626280318457, 'depth': 2, 'boosting_type': 'Plain', 'bootstrap_type': 'Bernoulli', 'subsample': 0.18376592667097008}. Best is trial 4 with value: 0.9616104868913857.\u001b[0m\n",
      "\u001b[32m[I 2023-04-03 23:46:37,726]\u001b[0m Trial 12 finished with value: 0.9597378277153558 and parameters: {'objective': 'Logloss', 'colsample_bylevel': 0.07196116543555584, 'depth': 9, 'boosting_type': 'Ordered', 'bootstrap_type': 'Bernoulli', 'subsample': 0.32396940589659884}. Best is trial 4 with value: 0.9616104868913857.\u001b[0m\n",
      "\u001b[32m[I 2023-04-03 23:46:43,740]\u001b[0m Trial 13 finished with value: 0.9569288389513109 and parameters: {'objective': 'Logloss', 'colsample_bylevel': 0.0977062257940715, 'depth': 3, 'boosting_type': 'Plain', 'bootstrap_type': 'Bernoulli', 'subsample': 0.3912061094063897}. Best is trial 4 with value: 0.9616104868913857.\u001b[0m\n",
      "\u001b[32m[I 2023-04-03 23:46:51,138]\u001b[0m Trial 14 finished with value: 0.9572409488139825 and parameters: {'objective': 'Logloss', 'colsample_bylevel': 0.0860046289937149, 'depth': 9, 'boosting_type': 'Plain', 'bootstrap_type': 'Bayesian', 'bagging_temperature': 0.6513739587784828}. Best is trial 4 with value: 0.9616104868913857.\u001b[0m\n",
      "\u001b[32m[I 2023-04-03 23:47:13,920]\u001b[0m Trial 15 finished with value: 0.9525593008739076 and parameters: {'objective': 'Logloss', 'colsample_bylevel': 0.06221884914828895, 'depth': 4, 'boosting_type': 'Ordered', 'bootstrap_type': 'Bernoulli', 'subsample': 0.12017197475893293}. Best is trial 4 with value: 0.9616104868913857.\u001b[0m\n",
      "\u001b[32m[I 2023-04-03 23:47:42,752]\u001b[0m Trial 16 finished with value: 0.9603620474406991 and parameters: {'objective': 'Logloss', 'colsample_bylevel': 0.0868238347561037, 'depth': 8, 'boosting_type': 'Ordered', 'bootstrap_type': 'Bernoulli', 'subsample': 0.40505783366017384}. Best is trial 4 with value: 0.9616104868913857.\u001b[0m\n",
      "\u001b[32m[I 2023-04-03 23:47:48,391]\u001b[0m Trial 17 finished with value: 0.9322721598002497 and parameters: {'objective': 'Logloss', 'colsample_bylevel': 0.010838268217834693, 'depth': 12, 'boosting_type': 'Plain', 'bootstrap_type': 'Bernoulli', 'subsample': 0.10138424342335595}. Best is trial 4 with value: 0.9616104868913857.\u001b[0m\n",
      "\u001b[32m[I 2023-04-03 23:48:14,062]\u001b[0m Trial 18 finished with value: 0.951310861423221 and parameters: {'objective': 'CrossEntropy', 'colsample_bylevel': 0.09982360647621516, 'depth': 1, 'boosting_type': 'Ordered', 'bootstrap_type': 'MVS'}. Best is trial 4 with value: 0.9616104868913857.\u001b[0m\n",
      "\u001b[32m[I 2023-04-03 23:48:20,858]\u001b[0m Trial 19 finished with value: 0.9485018726591761 and parameters: {'objective': 'Logloss', 'colsample_bylevel': 0.07917560525977335, 'depth': 5, 'boosting_type': 'Plain', 'bootstrap_type': 'Bayesian', 'bagging_temperature': 6.565479099578338}. Best is trial 4 with value: 0.9616104868913857.\u001b[0m\n",
      "\u001b[32m[I 2023-04-03 23:48:44,969]\u001b[0m Trial 20 finished with value: 0.952247191011236 and parameters: {'objective': 'Logloss', 'colsample_bylevel': 0.06405115259847778, 'depth': 3, 'boosting_type': 'Ordered', 'bootstrap_type': 'Bernoulli', 'subsample': 0.28038893560558065}. Best is trial 4 with value: 0.9616104868913857.\u001b[0m\n",
      "\u001b[32m[I 2023-04-03 23:49:13,105]\u001b[0m Trial 21 finished with value: 0.9578651685393258 and parameters: {'objective': 'Logloss', 'colsample_bylevel': 0.08803057725290804, 'depth': 8, 'boosting_type': 'Ordered', 'bootstrap_type': 'Bernoulli', 'subsample': 0.4441484305595922}. Best is trial 4 with value: 0.9616104868913857.\u001b[0m\n",
      "\u001b[32m[I 2023-04-03 23:49:40,922]\u001b[0m Trial 22 finished with value: 0.9588014981273408 and parameters: {'objective': 'Logloss', 'colsample_bylevel': 0.08256154045122367, 'depth': 10, 'boosting_type': 'Ordered', 'bootstrap_type': 'Bernoulli', 'subsample': 0.27351443660716535}. Best is trial 4 with value: 0.9616104868913857.\u001b[0m\n",
      "\u001b[32m[I 2023-04-03 23:50:08,007]\u001b[0m Trial 23 finished with value: 0.9597378277153558 and parameters: {'objective': 'Logloss', 'colsample_bylevel': 0.091762055949859, 'depth': 8, 'boosting_type': 'Ordered', 'bootstrap_type': 'Bernoulli', 'subsample': 0.45459337245987874}. Best is trial 4 with value: 0.9616104868913857.\u001b[0m\n",
      "\u001b[32m[I 2023-04-03 23:50:36,160]\u001b[0m Trial 24 finished with value: 0.9634831460674157 and parameters: {'objective': 'Logloss', 'colsample_bylevel': 0.09189742609156308, 'depth': 11, 'boosting_type': 'Ordered', 'bootstrap_type': 'Bernoulli', 'subsample': 0.27077607443142304}. Best is trial 24 with value: 0.9634831460674157.\u001b[0m\n",
      "\u001b[32m[I 2023-04-03 23:51:05,493]\u001b[0m Trial 25 finished with value: 0.9550561797752809 and parameters: {'objective': 'Logloss', 'colsample_bylevel': 0.09339650198140012, 'depth': 11, 'boosting_type': 'Ordered', 'bootstrap_type': 'Bernoulli', 'subsample': 0.22898961558373682}. Best is trial 24 with value: 0.9634831460674157.\u001b[0m\n"
     ]
    },
    {
     "name": "stderr",
     "output_type": "stream",
     "text": [
      "\u001b[32m[I 2023-04-03 23:51:12,138]\u001b[0m Trial 26 finished with value: 0.9563046192259675 and parameters: {'objective': 'Logloss', 'colsample_bylevel': 0.08162350019226511, 'depth': 11, 'boosting_type': 'Plain', 'bootstrap_type': 'Bernoulli', 'subsample': 0.3031877902653782}. Best is trial 24 with value: 0.9634831460674157.\u001b[0m\n",
      "\u001b[32m[I 2023-04-03 23:51:43,529]\u001b[0m Trial 27 finished with value: 0.9556803995006242 and parameters: {'objective': 'CrossEntropy', 'colsample_bylevel': 0.0947032204505959, 'depth': 12, 'boosting_type': 'Ordered', 'bootstrap_type': 'Bayesian', 'bagging_temperature': 4.219448361764456}. Best is trial 24 with value: 0.9634831460674157.\u001b[0m\n",
      "\u001b[32m[I 2023-04-03 23:51:51,894]\u001b[0m Trial 28 finished with value: 0.9597378277153558 and parameters: {'objective': 'Logloss', 'colsample_bylevel': 0.09008731457447157, 'depth': 10, 'boosting_type': 'Plain', 'bootstrap_type': 'Bernoulli', 'subsample': 0.19828330282845336}. Best is trial 24 with value: 0.9634831460674157.\u001b[0m\n",
      "\u001b[32m[I 2023-04-03 23:52:19,055]\u001b[0m Trial 29 finished with value: 0.9588014981273408 and parameters: {'objective': 'Logloss', 'colsample_bylevel': 0.0699310136909396, 'depth': 6, 'boosting_type': 'Ordered', 'bootstrap_type': 'MVS'}. Best is trial 24 with value: 0.9634831460674157.\u001b[0m\n"
     ]
    }
   ],
   "source": [
    "study = optuna.create_study(direction=\"maximize\")\n",
    "study.optimize(objective, n_trials=30, timeout=600)"
   ]
  },
  {
   "cell_type": "code",
   "execution_count": 52,
   "id": "0459c4f4",
   "metadata": {},
   "outputs": [
    {
     "name": "stdout",
     "output_type": "stream",
     "text": [
      "Number of finished trials: 30\n",
      "Best trial:\n",
      "  Value: 0.9634831460674157\n",
      "  Params: \n",
      "    objective: Logloss\n",
      "    colsample_bylevel: 0.09189742609156308\n",
      "    depth: 11\n",
      "    boosting_type: Ordered\n",
      "    bootstrap_type: Bernoulli\n",
      "    subsample: 0.27077607443142304\n"
     ]
    }
   ],
   "source": [
    "print('Number of finished trials: {}'.format(len(study.trials)))\n",
    "print('Best trial:')\n",
    "trial = study.best_trial\n",
    "\n",
    "print('  Value: {}'.format(trial.value))\n",
    "print('  Params: ')\n",
    "\n",
    "for key, value in trial.params.items():\n",
    "    print('    {}: {}'.format(key, value))"
   ]
  },
  {
   "cell_type": "markdown",
   "id": "fea10d37",
   "metadata": {},
   "source": [
    "### Fitting the Final model and get reports"
   ]
  },
  {
   "cell_type": "code",
   "execution_count": 55,
   "id": "6c77a6d3",
   "metadata": {},
   "outputs": [
    {
     "name": "stdout",
     "output_type": "stream",
     "text": [
      "Recall of Model : 0.9906367041198502\n",
      "Accuracy of Model : 0.9223284100781929\n"
     ]
    }
   ],
   "source": [
    "params = {\n",
    "    'max_depth': 5,\n",
    "    'learning_rate': 0.010872279675903252,\n",
    "    'n_estimators': 141,\n",
    "    'min_child_weight': 1,\n",
    "    'gamma': 1.1471238282903368e-08,\n",
    "    'subsample': 0.07077486063368742,\n",
    "    'colsample_bytree': 0.07243060386390768,\n",
    "    'reg_alpha': 6.031808286099722e-06,\n",
    "    'reg_lambda': 1.7096269396710682e-05\n",
    "}\n",
    "        \n",
    "# Fit the model\n",
    "best_model = XGBClassifier(**params)\n",
    "best_model.fit(X_train, y_train)\n",
    "\n",
    "# Make predictions\n",
    "y_pred = best_model.predict(X_test)\n",
    "    \n",
    "# Test set performance\n",
    "model_test_accuracy,model_test_f1,model_test_precision,\\\n",
    "model_test_recall,model_test_rocauc_score=evaluate_model(y_test, y_pred)\n",
    "    \n",
    "print(f\"Recall of Model : {model_test_recall}\")\n",
    "      \n",
    "print(f\"Accuracy of Model : {model_test_accuracy}\")        "
   ]
  },
  {
   "cell_type": "markdown",
   "id": "250f7a9b",
   "metadata": {},
   "source": [
    "## Conclusion\n",
    "\n",
    "#### Criteria for selection of model was Recall because we want to focus on coustomers leaving ie. 1(EXIT)  \n",
    "#### Xgboost(Hyperparameter Tunned) is giving higest Recall, thus it was selected for prediction."
   ]
  },
  {
   "cell_type": "code",
   "execution_count": null,
   "id": "2ad12ca7",
   "metadata": {},
   "outputs": [],
   "source": []
  }
 ],
 "metadata": {
  "kernelspec": {
   "display_name": "Python 3 (ipykernel)",
   "language": "python",
   "name": "python3"
  },
  "language_info": {
   "codemirror_mode": {
    "name": "ipython",
    "version": 3
   },
   "file_extension": ".py",
   "mimetype": "text/x-python",
   "name": "python",
   "nbconvert_exporter": "python",
   "pygments_lexer": "ipython3",
   "version": "3.9.13"
  }
 },
 "nbformat": 4,
 "nbformat_minor": 5
}
