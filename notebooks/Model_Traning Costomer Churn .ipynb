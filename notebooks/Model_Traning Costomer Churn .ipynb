{
 "cells": [
  {
   "cell_type": "markdown",
   "id": "3f54d25e",
   "metadata": {},
   "source": [
    "# Customer Churn\n",
    "\n",
    "##### This notebook contains the Feature Engeering / Model Traning for project Churn Analysis"
   ]
  },
  {
   "cell_type": "markdown",
   "id": "9b941bf5",
   "metadata": {},
   "source": [
    "### Life cycle of Machine learning Project\n",
    "\n",
    "- Understanding the Problem Statement\n",
    "- Data Collection\n",
    "- Data Checks to perform\n",
    "- Exploratory data analysis\n",
    "- Data Pre-Processing\n",
    "- Model Training\n",
    "- Choose best model"
   ]
  },
  {
   "cell_type": "markdown",
   "id": "8d06f048",
   "metadata": {},
   "source": [
    "### Data Collection\n",
    "- Dataset Source - https://www.kaggle.com/datasets/undersc0re/predict-the-churn-risk-rate\n",
    "- The data consists of 23 column and 36992 rows."
   ]
  },
  {
   "cell_type": "markdown",
   "id": "7f7c0359",
   "metadata": {},
   "source": [
    "### Table of Contents\n",
    "\n",
    "\n",
    "1) Problem Statement\n",
    "\n",
    "\n",
    "2) Data Dictionary\n",
    "\n",
    "\n",
    "3) Import Libraries\n",
    "\n",
    "\n",
    "4) Data Pre-Processing\n",
    "\n",
    "    4.1 - Missing Values\n",
    "    \n",
    "        4.1.1 - Standard Missing Values\n",
    "\n",
    "        4.1.2 - Non-Standard Missing Values\n",
    "\n",
    "        4.1.3 - Missing values imputation\n",
    "    \n",
    "    4.2 - Outliers\n",
    "\n",
    "    4.3 - Categorical Data Encoding\n",
    "    \n",
    "    4.4 - Feature Scaling\n",
    "    \n",
    "    \n",
    "5) Model Evaluation\n",
    "\n",
    "    5.1 - Feature Selection using Random Forest\n",
    "    \n",
    "    5.2 - Grid Search CV\n",
    "    \n",
    "    5.3 - Kfold Cross Validation\n",
    "    \n",
    "    5.4 - Defining Functions\n",
    "    \n",
    "    5.4.1 - Confusion Matrix\n",
    "    \n",
    "    5.4.2 - ROC Curve\n",
    "    \n",
    "    5.4.3 - Classification Report\n",
    "    \n",
    "    5.4.4 - Accuracy\n",
    "    \n",
    "    5.4.5 - F1 Score\n",
    "    \n",
    "    \n",
    "6) Model Building\n",
    "\n",
    "    6.1 - Logistic Regression\n",
    "    \n",
    "    6.2 - Naive Bayes\n",
    "    \n",
    "    6.3 - K nearest neighbors (KNN)\n",
    "    \n",
    "    6.4 - Random Forest\n",
    "    \n",
    "    6.5 - AdaBoost\n",
    "    \n",
    "    6.6 - XGBoost\n",
    "    \n",
    "    6.7 - Catboost\n",
    "    \n",
    "    \n",
    "7) Model Performance\n",
    "\n",
    "\n",
    "8) Model Ensembling\n",
    "\n",
    "    8.1 - Voting Classifier\n",
    "    \n",
    "    8.2 - Stacking Classifier\n",
    "    \n",
    "    \n",
    "9) Displaying Score Summary"
   ]
  },
  {
   "cell_type": "markdown",
   "id": "fca46ca8",
   "metadata": {},
   "source": [
    "### 1) Problem statement\n",
    "\n",
    "- Churn rate is a marketing metric that describes the number of customers who leave a business over a specific time period. Understanding and detecting churn is the first step to retaining these customers and improving the company’s offerings.\n",
    "\n",
    "\n",
    "- Goal is to predict the churn for a website based on the features provided in the dataset. Customer will EXIT(1) or NOT(0), and identify customers who are likely to leave so that we can retain then with some special offers on membership.\n",
    "\n",
    "\n",
    "\n"
   ]
  },
  {
   "cell_type": "markdown",
   "id": "8f1a3003",
   "metadata": {},
   "source": [
    "### 2. Data Dictionary \n",
    "\n",
    "1) age : Represents the age of a customer\n",
    "\n",
    "2) gender : Represents the gender of a customer\n",
    "\n",
    "3) security_no : Represents a unique security number that is used to identify a person\n",
    "\n",
    "4) region_category : Represents the region that a customer belongs to\n",
    "\n",
    "5) membership_category : Represents the category of the membership that a customer is using\n",
    "\n",
    "6) joining_date : Represents the date when a customer became a member\n",
    "\n",
    "7) joined_through_referral : Represents whether a customer joined using any referral code or ID\n",
    "\n",
    "8) referral_id : Represents a referral ID\n",
    "\n",
    "9) preferred_offer_types : Represents the type of offer that a customer prefers\n",
    "\n",
    "10) medium_of_operation : Represents the medium of operation that a customer uses for transactions\n",
    "\n",
    "11) internet_option : Represents the type of internet service a customer uses\n",
    "\n",
    "12) last_visit_time : Represents the last time a customer visited the website\n",
    "\n",
    "13) days_since_last_login : Represents the no. of days since a customer last logged into the website\n",
    "\n",
    "14) avg_time_spent : Represents the average time spent by a customer on the website\n",
    "\n",
    "15) avg_transaction_value : Represents the average transaction value of a customer\n",
    "\n",
    "16) avg_frequency_login_days : Represents the no. of times a customer has logged in to the website\n",
    "\n",
    "17) points_in_wallet : Represents the points awarded to a customer on each transaction\n",
    "\n",
    "18) used_special_discount : Represents whether a customer uses special discounts offered\n",
    "\n",
    "19) offer_application_preference : Represents whether a customer prefers offers\n",
    "\n",
    "20) past_complaint : Represents whether a customer has raised any complaints\n",
    "\n",
    "21) complaint_status : Represents whether the complaints raised by a customer was resolved\n",
    "\n",
    "22) feedback : Represents the feedback provided by a customer\n",
    "\n",
    "23) churn_risk_score : 0 or 1 [Customer will Stay or Exit]"
   ]
  },
  {
   "cell_type": "code",
   "execution_count": null,
   "id": "ec1ca104",
   "metadata": {},
   "outputs": [],
   "source": [
    "!pip install xgboost"
   ]
  },
  {
   "cell_type": "markdown",
   "id": "853b2b0e",
   "metadata": {},
   "source": [
    "### 3. Import Data and Required Packages"
   ]
  },
  {
   "cell_type": "code",
   "execution_count": 14,
   "id": "531bff17",
   "metadata": {},
   "outputs": [],
   "source": [
    "data = pd.read_csv('churn.csv', index_col=0)"
   ]
  },
  {
   "cell_type": "code",
   "execution_count": 7,
   "id": "7d02f79e",
   "metadata": {},
   "outputs": [],
   "source": [
    "import numpy as np\n",
    "import pandas as pd\n",
    "import seaborn as sns\n",
    "import matplotlib.pyplot as plt\n",
    "from sklearn.tree import export_graphviz\n",
    "\n",
    "from sklearn import tree\n",
    "from sklearn.impute import KNNImputer\n",
    "from sklearn.linear_model import LogisticRegression\n",
    "from sklearn.neighbors import KNeighborsClassifier\n",
    "\n",
    "from sklearn.preprocessing import OrdinalEncoder, LabelEncoder, StandardScaler \n",
    "from sklearn.model_selection import train_test_split, GridSearchCV, cross_val_score, KFold\n",
    "from sklearn.ensemble import RandomForestClassifier, VotingClassifier, StackingClassifier\n",
    "\n",
    "# from catboost import CatBoostRegressor\n",
    "# from xgboost import XGBClassifier\n",
    "from sklearn.metrics import *\n",
    "\n",
    "import warnings\n",
    "warnings.filterwarnings('ignore')"
   ]
  },
  {
   "cell_type": "markdown",
   "id": "95c70c0b",
   "metadata": {},
   "source": [
    "## 4. Data Preprocessing "
   ]
  },
  {
   "cell_type": "markdown",
   "id": "9f4e6953",
   "metadata": {},
   "source": [
    "\n",
    "### 4.1 Missing values "
   ]
  },
  {
   "cell_type": "markdown",
   "id": "1c82ef98",
   "metadata": {},
   "source": [
    "#### 4.1.1 Standard Missing Values "
   ]
  },
  {
   "cell_type": "code",
   "execution_count": 15,
   "id": "f94ca6da",
   "metadata": {},
   "outputs": [
    {
     "data": {
      "text/html": [
       "<div>\n",
       "<style scoped>\n",
       "    .dataframe tbody tr th:only-of-type {\n",
       "        vertical-align: middle;\n",
       "    }\n",
       "\n",
       "    .dataframe tbody tr th {\n",
       "        vertical-align: top;\n",
       "    }\n",
       "\n",
       "    .dataframe thead th {\n",
       "        text-align: right;\n",
       "    }\n",
       "</style>\n",
       "<table border=\"1\" class=\"dataframe\">\n",
       "  <thead>\n",
       "    <tr style=\"text-align: right;\">\n",
       "      <th></th>\n",
       "      <th>missing_values</th>\n",
       "      <th>percentage</th>\n",
       "    </tr>\n",
       "  </thead>\n",
       "  <tbody>\n",
       "    <tr>\n",
       "      <th>region_category</th>\n",
       "      <td>5428</td>\n",
       "      <td>14.673443</td>\n",
       "    </tr>\n",
       "    <tr>\n",
       "      <th>points_in_wallet</th>\n",
       "      <td>3443</td>\n",
       "      <td>9.307418</td>\n",
       "    </tr>\n",
       "    <tr>\n",
       "      <th>preferred_offer_types</th>\n",
       "      <td>288</td>\n",
       "      <td>0.778547</td>\n",
       "    </tr>\n",
       "    <tr>\n",
       "      <th>age</th>\n",
       "      <td>0</td>\n",
       "      <td>0.000000</td>\n",
       "    </tr>\n",
       "    <tr>\n",
       "      <th>avg_time_spent</th>\n",
       "      <td>0</td>\n",
       "      <td>0.000000</td>\n",
       "    </tr>\n",
       "    <tr>\n",
       "      <th>feedback</th>\n",
       "      <td>0</td>\n",
       "      <td>0.000000</td>\n",
       "    </tr>\n",
       "    <tr>\n",
       "      <th>complaint_status</th>\n",
       "      <td>0</td>\n",
       "      <td>0.000000</td>\n",
       "    </tr>\n",
       "    <tr>\n",
       "      <th>past_complaint</th>\n",
       "      <td>0</td>\n",
       "      <td>0.000000</td>\n",
       "    </tr>\n",
       "    <tr>\n",
       "      <th>offer_application_preference</th>\n",
       "      <td>0</td>\n",
       "      <td>0.000000</td>\n",
       "    </tr>\n",
       "    <tr>\n",
       "      <th>used_special_discount</th>\n",
       "      <td>0</td>\n",
       "      <td>0.000000</td>\n",
       "    </tr>\n",
       "    <tr>\n",
       "      <th>avg_frequency_login_days</th>\n",
       "      <td>0</td>\n",
       "      <td>0.000000</td>\n",
       "    </tr>\n",
       "    <tr>\n",
       "      <th>avg_transaction_value</th>\n",
       "      <td>0</td>\n",
       "      <td>0.000000</td>\n",
       "    </tr>\n",
       "    <tr>\n",
       "      <th>last_visit_time</th>\n",
       "      <td>0</td>\n",
       "      <td>0.000000</td>\n",
       "    </tr>\n",
       "    <tr>\n",
       "      <th>days_since_last_login</th>\n",
       "      <td>0</td>\n",
       "      <td>0.000000</td>\n",
       "    </tr>\n",
       "    <tr>\n",
       "      <th>gender</th>\n",
       "      <td>0</td>\n",
       "      <td>0.000000</td>\n",
       "    </tr>\n",
       "    <tr>\n",
       "      <th>internet_option</th>\n",
       "      <td>0</td>\n",
       "      <td>0.000000</td>\n",
       "    </tr>\n",
       "    <tr>\n",
       "      <th>medium_of_operation</th>\n",
       "      <td>0</td>\n",
       "      <td>0.000000</td>\n",
       "    </tr>\n",
       "    <tr>\n",
       "      <th>referral_id</th>\n",
       "      <td>0</td>\n",
       "      <td>0.000000</td>\n",
       "    </tr>\n",
       "    <tr>\n",
       "      <th>joined_through_referral</th>\n",
       "      <td>0</td>\n",
       "      <td>0.000000</td>\n",
       "    </tr>\n",
       "    <tr>\n",
       "      <th>joining_date</th>\n",
       "      <td>0</td>\n",
       "      <td>0.000000</td>\n",
       "    </tr>\n",
       "    <tr>\n",
       "      <th>membership_category</th>\n",
       "      <td>0</td>\n",
       "      <td>0.000000</td>\n",
       "    </tr>\n",
       "    <tr>\n",
       "      <th>security_no</th>\n",
       "      <td>0</td>\n",
       "      <td>0.000000</td>\n",
       "    </tr>\n",
       "    <tr>\n",
       "      <th>churn_risk_score</th>\n",
       "      <td>0</td>\n",
       "      <td>0.000000</td>\n",
       "    </tr>\n",
       "  </tbody>\n",
       "</table>\n",
       "</div>"
      ],
      "text/plain": [
       "                              missing_values  percentage\n",
       "region_category                         5428   14.673443\n",
       "points_in_wallet                        3443    9.307418\n",
       "preferred_offer_types                    288    0.778547\n",
       "age                                        0    0.000000\n",
       "avg_time_spent                             0    0.000000\n",
       "feedback                                   0    0.000000\n",
       "complaint_status                           0    0.000000\n",
       "past_complaint                             0    0.000000\n",
       "offer_application_preference               0    0.000000\n",
       "used_special_discount                      0    0.000000\n",
       "avg_frequency_login_days                   0    0.000000\n",
       "avg_transaction_value                      0    0.000000\n",
       "last_visit_time                            0    0.000000\n",
       "days_since_last_login                      0    0.000000\n",
       "gender                                     0    0.000000\n",
       "internet_option                            0    0.000000\n",
       "medium_of_operation                        0    0.000000\n",
       "referral_id                                0    0.000000\n",
       "joined_through_referral                    0    0.000000\n",
       "joining_date                               0    0.000000\n",
       "membership_category                        0    0.000000\n",
       "security_no                                0    0.000000\n",
       "churn_risk_score                           0    0.000000"
      ]
     },
     "execution_count": 15,
     "metadata": {},
     "output_type": "execute_result"
    }
   ],
   "source": [
    "missing_values = pd.DataFrame({\n",
    "    'missing_values':data.isnull().sum(),\n",
    "    'percentage':data.isnull().sum()*100/data.shape[0]\n",
    "})\n",
    "\n",
    "missing_values.sort_values(by='missing_values', ascending=False)"
   ]
  },
  {
   "cell_type": "markdown",
   "id": "0b29e0ea",
   "metadata": {},
   "source": [
    "Above datafram shows that missing values which are NaN values but there are some non-standard missing values which needs to be treated before further processing."
   ]
  },
  {
   "cell_type": "markdown",
   "id": "cd70950c",
   "metadata": {},
   "source": [
    "#### 4.1.2 Non-Standard Missing Values \n",
    "\n",
    "##### The non-standard missing values are replaced with NaN"
   ]
  },
  {
   "cell_type": "code",
   "execution_count": 16,
   "id": "ce6932cb",
   "metadata": {},
   "outputs": [
    {
     "data": {
      "text/plain": [
       "No     15839\n",
       "Yes    15715\n",
       "?       5438\n",
       "Name: joined_through_referral, dtype: int64"
      ]
     },
     "execution_count": 16,
     "metadata": {},
     "output_type": "execute_result"
    }
   ],
   "source": [
    "data.joined_through_referral.value_counts()"
   ]
  },
  {
   "cell_type": "markdown",
   "id": "9d8c1c1e",
   "metadata": {},
   "source": [
    "##### The feature joined_through_referral has unindentified '?' values which are replaced with Nan."
   ]
  },
  {
   "cell_type": "code",
   "execution_count": 17,
   "id": "5030505e",
   "metadata": {},
   "outputs": [],
   "source": [
    "data['joined_through_referral'] = data['joined_through_referral'].replace('?',np.NaN)"
   ]
  },
  {
   "cell_type": "code",
   "execution_count": 18,
   "id": "7963ebb1",
   "metadata": {},
   "outputs": [
    {
     "data": {
      "text/plain": [
       "F          18490\n",
       "M          18443\n",
       "Unknown       59\n",
       "Name: gender, dtype: int64"
      ]
     },
     "execution_count": 18,
     "metadata": {},
     "output_type": "execute_result"
    }
   ],
   "source": [
    "data.gender.value_counts()"
   ]
  },
  {
   "cell_type": "markdown",
   "id": "1552f958",
   "metadata": {},
   "source": [
    "##### \n",
    "The feature gender has unindentified 'Unknown' values which are replaced with Nan."
   ]
  },
  {
   "cell_type": "code",
   "execution_count": 19,
   "id": "4857dca0",
   "metadata": {},
   "outputs": [
    {
     "data": {
      "text/plain": [
       "array(['xxxxxxxx', 'CID21329', 'CID12313', ..., 'CID60808', 'CID10431',\n",
       "       'CID45477'], dtype=object)"
      ]
     },
     "execution_count": 19,
     "metadata": {},
     "output_type": "execute_result"
    }
   ],
   "source": [
    "data['gender'] = data['gender'].replace('Unknown',np.NaN)\n",
    "\n",
    "data.referral_id.unique()"
   ]
  },
  {
   "cell_type": "markdown",
   "id": "cb9270d7",
   "metadata": {},
   "source": [
    "##### The feature referral_id has unindentified 'xxxxxxxx' values which are replaced with Nan."
   ]
  },
  {
   "cell_type": "code",
   "execution_count": 20,
   "id": "11ac7621",
   "metadata": {},
   "outputs": [
    {
     "data": {
      "text/plain": [
       "Desktop       13913\n",
       "Smartphone    13876\n",
       "?              5393\n",
       "Both           3810\n",
       "Name: medium_of_operation, dtype: int64"
      ]
     },
     "execution_count": 20,
     "metadata": {},
     "output_type": "execute_result"
    }
   ],
   "source": [
    "data['referral_id'] = data['referral_id'].replace('xxxxxxxx',np.NaN)  \n",
    "\n",
    "data.medium_of_operation.value_counts()"
   ]
  },
  {
   "cell_type": "markdown",
   "id": "d4d27eb7",
   "metadata": {},
   "source": [
    "##### The feature medium_of_operation has unindentified '?' values which are replaced with Nan."
   ]
  },
  {
   "cell_type": "code",
   "execution_count": 21,
   "id": "bc9299ad",
   "metadata": {},
   "outputs": [
    {
     "data": {
      "text/plain": [
       " 12     2380\n",
       " 13     2373\n",
       " 14     2307\n",
       " 15     2278\n",
       " 11     2262\n",
       " 10     2091\n",
       " 16     2068\n",
       "-999    1999\n",
       " 9      1863\n",
       " 17     1747\n",
       " 8      1571\n",
       " 18     1444\n",
       " 7      1442\n",
       " 19     1308\n",
       " 6      1257\n",
       " 5      1234\n",
       " 20     1184\n",
       " 21     1015\n",
       " 4       998\n",
       " 22      895\n",
       " 3       852\n",
       " 23      727\n",
       " 2       613\n",
       " 24      471\n",
       " 1       328\n",
       " 25      203\n",
       " 26       82\n",
       "Name: days_since_last_login, dtype: int64"
      ]
     },
     "execution_count": 21,
     "metadata": {},
     "output_type": "execute_result"
    }
   ],
   "source": [
    "data['medium_of_operation'] = data['medium_of_operation'].replace('?',np.NaN) \n",
    "\n",
    "data.days_since_last_login.value_counts()"
   ]
  },
  {
   "cell_type": "markdown",
   "id": "bfaf3785",
   "metadata": {},
   "source": [
    "##### The feature days_since_last_login has unindentified '-999' values which are replaced with Nan."
   ]
  },
  {
   "cell_type": "code",
   "execution_count": 22,
   "id": "f2a85c9c",
   "metadata": {},
   "outputs": [
    {
     "data": {
      "text/plain": [
       "1719"
      ]
     },
     "execution_count": 22,
     "metadata": {},
     "output_type": "execute_result"
    }
   ],
   "source": [
    "data['days_since_last_login'] = data['days_since_last_login'].replace(-999,np.NaN)\n",
    "\n",
    "len(data[data.avg_time_spent < 0]['avg_time_spent'])"
   ]
  },
  {
   "cell_type": "code",
   "execution_count": 23,
   "id": "7bf39ea2",
   "metadata": {},
   "outputs": [],
   "source": [
    "data['avg_time_spent']=data['avg_time_spent'].apply(lambda x:x if x>=0 else np.nan)"
   ]
  },
  {
   "cell_type": "markdown",
   "id": "b63d50ba",
   "metadata": {},
   "source": [
    "##### The feature avg_time_spent has negative values which are replaced with Nan"
   ]
  },
  {
   "cell_type": "code",
   "execution_count": 24,
   "id": "ef801f66",
   "metadata": {},
   "outputs": [
    {
     "data": {
      "text/plain": [
       "136"
      ]
     },
     "execution_count": 24,
     "metadata": {},
     "output_type": "execute_result"
    }
   ],
   "source": [
    "len(data[data.points_in_wallet < 0]['points_in_wallet'])"
   ]
  },
  {
   "cell_type": "markdown",
   "id": "825648e1",
   "metadata": {},
   "source": [
    "##### The feature points_in_wallet has negative values which are replaced with Nan"
   ]
  },
  {
   "cell_type": "code",
   "execution_count": 25,
   "id": "2a36a067",
   "metadata": {},
   "outputs": [],
   "source": [
    "data['points_in_wallet']=data['points_in_wallet'].apply(lambda x:x if x>=0 else np.nan)"
   ]
  },
  {
   "cell_type": "markdown",
   "id": "a7e0d77d",
   "metadata": {},
   "source": [
    "##### The feature avg_frequency_login_days has negative values as well as unidentified 'Error' values which are replaced with Nan"
   ]
  },
  {
   "cell_type": "code",
   "execution_count": 26,
   "id": "49e75fa6",
   "metadata": {},
   "outputs": [],
   "source": [
    "data['avg_frequency_login_days']=data['avg_frequency_login_days'].apply(lambda x:x if x!='Error' else -1)\n",
    "data['avg_frequency_login_days']=data['avg_frequency_login_days'].astype('float')\n",
    "data['avg_frequency_login_days']=data['avg_frequency_login_days'].apply(lambda x:x if x>=0 else np.nan)"
   ]
  },
  {
   "cell_type": "code",
   "execution_count": 27,
   "id": "8176ceef",
   "metadata": {},
   "outputs": [
    {
     "data": {
      "text/html": [
       "<div>\n",
       "<style scoped>\n",
       "    .dataframe tbody tr th:only-of-type {\n",
       "        vertical-align: middle;\n",
       "    }\n",
       "\n",
       "    .dataframe tbody tr th {\n",
       "        vertical-align: top;\n",
       "    }\n",
       "\n",
       "    .dataframe thead th {\n",
       "        text-align: right;\n",
       "    }\n",
       "</style>\n",
       "<table border=\"1\" class=\"dataframe\">\n",
       "  <thead>\n",
       "    <tr style=\"text-align: right;\">\n",
       "      <th></th>\n",
       "      <th>missing_values</th>\n",
       "      <th>percentage</th>\n",
       "    </tr>\n",
       "  </thead>\n",
       "  <tbody>\n",
       "    <tr>\n",
       "      <th>referral_id</th>\n",
       "      <td>17846</td>\n",
       "      <td>48.242863</td>\n",
       "    </tr>\n",
       "    <tr>\n",
       "      <th>joined_through_referral</th>\n",
       "      <td>5438</td>\n",
       "      <td>14.700476</td>\n",
       "    </tr>\n",
       "    <tr>\n",
       "      <th>region_category</th>\n",
       "      <td>5428</td>\n",
       "      <td>14.673443</td>\n",
       "    </tr>\n",
       "    <tr>\n",
       "      <th>medium_of_operation</th>\n",
       "      <td>5393</td>\n",
       "      <td>14.578828</td>\n",
       "    </tr>\n",
       "    <tr>\n",
       "      <th>avg_frequency_login_days</th>\n",
       "      <td>4205</td>\n",
       "      <td>11.367323</td>\n",
       "    </tr>\n",
       "    <tr>\n",
       "      <th>points_in_wallet</th>\n",
       "      <td>3579</td>\n",
       "      <td>9.675065</td>\n",
       "    </tr>\n",
       "    <tr>\n",
       "      <th>days_since_last_login</th>\n",
       "      <td>1999</td>\n",
       "      <td>5.403871</td>\n",
       "    </tr>\n",
       "    <tr>\n",
       "      <th>avg_time_spent</th>\n",
       "      <td>1719</td>\n",
       "      <td>4.646951</td>\n",
       "    </tr>\n",
       "    <tr>\n",
       "      <th>preferred_offer_types</th>\n",
       "      <td>288</td>\n",
       "      <td>0.778547</td>\n",
       "    </tr>\n",
       "    <tr>\n",
       "      <th>gender</th>\n",
       "      <td>59</td>\n",
       "      <td>0.159494</td>\n",
       "    </tr>\n",
       "    <tr>\n",
       "      <th>age</th>\n",
       "      <td>0</td>\n",
       "      <td>0.000000</td>\n",
       "    </tr>\n",
       "    <tr>\n",
       "      <th>feedback</th>\n",
       "      <td>0</td>\n",
       "      <td>0.000000</td>\n",
       "    </tr>\n",
       "    <tr>\n",
       "      <th>complaint_status</th>\n",
       "      <td>0</td>\n",
       "      <td>0.000000</td>\n",
       "    </tr>\n",
       "    <tr>\n",
       "      <th>past_complaint</th>\n",
       "      <td>0</td>\n",
       "      <td>0.000000</td>\n",
       "    </tr>\n",
       "    <tr>\n",
       "      <th>offer_application_preference</th>\n",
       "      <td>0</td>\n",
       "      <td>0.000000</td>\n",
       "    </tr>\n",
       "    <tr>\n",
       "      <th>used_special_discount</th>\n",
       "      <td>0</td>\n",
       "      <td>0.000000</td>\n",
       "    </tr>\n",
       "    <tr>\n",
       "      <th>last_visit_time</th>\n",
       "      <td>0</td>\n",
       "      <td>0.000000</td>\n",
       "    </tr>\n",
       "    <tr>\n",
       "      <th>avg_transaction_value</th>\n",
       "      <td>0</td>\n",
       "      <td>0.000000</td>\n",
       "    </tr>\n",
       "    <tr>\n",
       "      <th>internet_option</th>\n",
       "      <td>0</td>\n",
       "      <td>0.000000</td>\n",
       "    </tr>\n",
       "    <tr>\n",
       "      <th>joining_date</th>\n",
       "      <td>0</td>\n",
       "      <td>0.000000</td>\n",
       "    </tr>\n",
       "    <tr>\n",
       "      <th>membership_category</th>\n",
       "      <td>0</td>\n",
       "      <td>0.000000</td>\n",
       "    </tr>\n",
       "    <tr>\n",
       "      <th>security_no</th>\n",
       "      <td>0</td>\n",
       "      <td>0.000000</td>\n",
       "    </tr>\n",
       "    <tr>\n",
       "      <th>churn_risk_score</th>\n",
       "      <td>0</td>\n",
       "      <td>0.000000</td>\n",
       "    </tr>\n",
       "  </tbody>\n",
       "</table>\n",
       "</div>"
      ],
      "text/plain": [
       "                              missing_values  percentage\n",
       "referral_id                            17846   48.242863\n",
       "joined_through_referral                 5438   14.700476\n",
       "region_category                         5428   14.673443\n",
       "medium_of_operation                     5393   14.578828\n",
       "avg_frequency_login_days                4205   11.367323\n",
       "points_in_wallet                        3579    9.675065\n",
       "days_since_last_login                   1999    5.403871\n",
       "avg_time_spent                          1719    4.646951\n",
       "preferred_offer_types                    288    0.778547\n",
       "gender                                    59    0.159494\n",
       "age                                        0    0.000000\n",
       "feedback                                   0    0.000000\n",
       "complaint_status                           0    0.000000\n",
       "past_complaint                             0    0.000000\n",
       "offer_application_preference               0    0.000000\n",
       "used_special_discount                      0    0.000000\n",
       "last_visit_time                            0    0.000000\n",
       "avg_transaction_value                      0    0.000000\n",
       "internet_option                            0    0.000000\n",
       "joining_date                               0    0.000000\n",
       "membership_category                        0    0.000000\n",
       "security_no                                0    0.000000\n",
       "churn_risk_score                           0    0.000000"
      ]
     },
     "execution_count": 27,
     "metadata": {},
     "output_type": "execute_result"
    }
   ],
   "source": [
    "missing_values = pd.DataFrame({\n",
    "    'missing_values':data.isnull().sum(),\n",
    "    'percentage':data.isnull().sum()*100/data.shape[0]\n",
    "})\n",
    "\n",
    "missing_values.sort_values(by='missing_values', ascending=False)"
   ]
  },
  {
   "cell_type": "markdown",
   "id": "295821a9",
   "metadata": {},
   "source": [
    "##### There are 10 features that has missing values. referral_id has the most missing values around 48%."
   ]
  },
  {
   "cell_type": "code",
   "execution_count": 28,
   "id": "b3f1a797",
   "metadata": {},
   "outputs": [
    {
     "data": {
      "image/png": "[encoded data removed]",
      "text/plain": [
       "<Figure size 2000x1000 with 1 Axes>"
      ]
     },
     "metadata": {},
     "output_type": "display_data"
    }
   ],
   "source": [
    "plt.figure(figsize=(20,10))\n",
    "sns.heatmap(data.isnull(), cbar=False)\n",
    "plt.show()"
   ]
  },
  {
   "cell_type": "markdown",
   "id": "054ced75",
   "metadata": {},
   "source": [
    "#### 4.1.3 Missing values imputation"
   ]
  },
  {
   "cell_type": "code",
   "execution_count": 29,
   "id": "f65c50f1",
   "metadata": {},
   "outputs": [],
   "source": [
    "df_num = data.select_dtypes(include=np.number)\n",
    "df_cat = data.select_dtypes(include='object')"
   ]
  },
  {
   "cell_type": "markdown",
   "id": "92b327ee",
   "metadata": {},
   "source": [
    "#### Missing values treatment for categorical variable"
   ]
  },
  {
   "cell_type": "code",
   "execution_count": 30,
   "id": "bfd0fab7",
   "metadata": {},
   "outputs": [],
   "source": [
    "Missing_cat = data[['gender','preferred_offer_types','region_category','joined_through_referral','medium_of_operation']]\n",
    "for i,col in enumerate(Missing_cat):\n",
    "    data[col].fillna(data[col].mode()[0], inplace=True)"
   ]
  },
  {
   "cell_type": "markdown",
   "id": "d3248e28",
   "metadata": {},
   "source": [
    "##### Missing values treatment for numerical variable"
   ]
  },
  {
   "cell_type": "code",
   "execution_count": 31,
   "id": "684f3ef2",
   "metadata": {},
   "outputs": [],
   "source": [
    "Missing_num = data[['points_in_wallet','avg_time_spent','days_since_last_login','avg_frequency_login_days']]\n",
    "\n",
    "imputer = KNNImputer(n_neighbors=3)\n",
    "imputed_value=imputer.fit_transform(Missing_num)"
   ]
  },
  {
   "cell_type": "markdown",
   "id": "495caa92",
   "metadata": {},
   "source": [
    "1) For imputing missing values for categorical features we have used mode value\n",
    "\n",
    "2) For imputing missing values for numerical featurers we have used KNNimputer after experimenting with other imputation methods such as mean & median and we got better results with KNNimputer."
   ]
  },
  {
   "cell_type": "code",
   "execution_count": 34,
   "id": "e5256ccd",
   "metadata": {},
   "outputs": [],
   "source": [
    "d1 = pd.DataFrame({\n",
    "    'avg_frequency_login_days':imputed_value.T[0],\n",
    "    'points_in_wallet':imputed_value.T[1],\n",
    "    'days_since_last_login':imputed_value.T[2],\n",
    "    'avg_time_spent':imputed_value.T[3]\n",
    "\n",
    "})\n",
    "\n",
    "data.drop(['avg_frequency_login_days','points_in_wallet','days_since_last_login','avg_time_spent'], axis=1, inplace=True)\n",
    "\n",
    "data = pd.concat([data, d1], axis=1)"
   ]
  },
  {
   "cell_type": "code",
   "execution_count": 37,
   "id": "08df2249",
   "metadata": {},
   "outputs": [],
   "source": [
    "data['year']=data.joining_date.apply(lambda x:2021-int(x.split('-')[0]))\n",
    "data.drop(['security_no','joining_date','referral_id','last_visit_time'], axis=1, inplace=True)"
   ]
  },
  {
   "cell_type": "markdown",
   "id": "3fa2e0f8",
   "metadata": {},
   "source": [
    "1) Created new feature year from joining_date\n",
    "\n",
    "2) Dropped features such as security_no, referral_id etc. because either they aren't valuable for predicting churn or having major missing values."
   ]
  },
  {
   "cell_type": "markdown",
   "id": "17737060",
   "metadata": {},
   "source": [
    "### 4.2 Outliers "
   ]
  },
  {
   "cell_type": "code",
   "execution_count": 39,
   "id": "b39660ed",
   "metadata": {},
   "outputs": [],
   "source": [
    "df_num=data.select_dtypes(include=[np.number]) "
   ]
  },
  {
   "cell_type": "code",
   "execution_count": 40,
   "id": "d28fa6c1",
   "metadata": {},
   "outputs": [
    {
     "name": "stdout",
     "output_type": "stream",
     "text": [
      "Total number of Outliers in column age are 0\n",
      "Total number of Outliers in column avg_transaction_value are 1131\n",
      "Total number of Outliers in column churn_risk_score are 0\n",
      "Total number of Outliers in column avg_frequency_login_days are 4399\n",
      "Total number of Outliers in column points_in_wallet are 2911\n",
      "Total number of Outliers in column days_since_last_login are 0\n",
      "Total number of Outliers in column avg_time_spent are 417\n",
      "Total number of Outliers in column year are 0\n"
     ]
    }
   ],
   "source": [
    "Q1 = data.quantile(0.25) \n",
    "Q3 = data.quantile(0.75) \n",
    "IQR = Q3 - Q1 \n",
    "\n",
    "outlier = pd.DataFrame((df_num < (Q1 - 1.5 * IQR)) | (df_num > (Q3 + 1.5 * IQR)))\n",
    "for i in outlier.columns:\n",
    "    print(f'Total number of Outliers in column {i} are {len(outlier[outlier[i] == True][i])}')"
   ]
  },
  {
   "cell_type": "code",
   "execution_count": 41,
   "id": "4487933c",
   "metadata": {},
   "outputs": [],
   "source": [
    "data_iqr = data[~((data < (Q1 - 1.5 * IQR)) |(data > (Q3 + 1.5 * IQR))).any(axis=1)] \n",
    "\n",
    "data_iqr.reset_index(inplace=True)\n",
    "\n",
    "data_iqr.drop('index',axis=1, inplace=True)"
   ]
  },
  {
   "cell_type": "code",
   "execution_count": 42,
   "id": "40771bd0",
   "metadata": {},
   "outputs": [],
   "source": [
    "df_cat = data_iqr[['gender','region_category','joined_through_referral','preferred_offer_types','medium_of_operation','internet_option','used_special_discount','offer_application_preference','past_complaint']]\n",
    "df_num = data_iqr.select_dtypes(include=np.number)"
   ]
  },
  {
   "cell_type": "markdown",
   "id": "bc078562",
   "metadata": {},
   "source": [
    "### 4.3 Categorical Data Encoding "
   ]
  },
  {
   "cell_type": "code",
   "execution_count": 45,
   "id": "6906da60",
   "metadata": {},
   "outputs": [],
   "source": [
    "orderencoding_membership_category = OrdinalEncoder(categories = [[\"No Membership\", \"Basic Membership\", \"Silver Membership\", \"Gold Membership\",\"Platinum Membership\",\"Premium Membership\"]])\n",
    "data_iqr['membership_category'] = orderencoding_membership_category.fit_transform(data_iqr['membership_category'].values.reshape(-1,1))\n",
    "\n",
    "orderencoding_complaint_status = OrdinalEncoder(categories = [[\"No Information Available\", \"Not Applicable\", \"Unsolved\",\"Solved\",\"Solved in Follow-up\"]])\n",
    "data_iqr['complaint_status'] = orderencoding_complaint_status.fit_transform(data_iqr['complaint_status'].values.reshape(-1,1)) \n",
    "\n",
    "labelencoder_feedback = LabelEncoder() \n",
    "data_iqr['feedback'] = labelencoder_feedback.fit_transform(data_iqr.feedback) \n",
    "\n",
    "df_categorical = pd.get_dummies(df_cat, drop_first=True)"
   ]
  },
  {
   "cell_type": "markdown",
   "id": "b32459c2",
   "metadata": {},
   "source": [
    "1) For features such as membership_category and complaint_status we have used OrdinalEncoder because there is kind hierarchy in which we can order classes of these features.\n",
    "\n",
    "2) We have used dummy encoded features such as age, region, medium_of_operation, and internet_option etc."
   ]
  },
  {
   "cell_type": "code",
   "execution_count": 46,
   "id": "e94bdd0b",
   "metadata": {},
   "outputs": [],
   "source": [
    "df_final = pd.concat([df_categorical,df_num,data_iqr['membership_category'],data_iqr['complaint_status'],data_iqr['feedback']], axis=1)"
   ]
  },
  {
   "cell_type": "markdown",
   "id": "461dd4bf",
   "metadata": {},
   "source": [
    "### 4.4 Feature Scaling"
   ]
  },
  {
   "cell_type": "code",
   "execution_count": 47,
   "id": "29753469",
   "metadata": {},
   "outputs": [],
   "source": [
    "col = df_final[['age','days_since_last_login','avg_time_spent','avg_transaction_value','avg_frequency_login_days','points_in_wallet']]"
   ]
  },
  {
   "cell_type": "code",
   "execution_count": 48,
   "id": "4edfa997",
   "metadata": {},
   "outputs": [],
   "source": [
    "df_final.drop(['age','days_since_last_login','avg_time_spent','avg_transaction_value','avg_frequency_login_days','points_in_wallet'], axis=1, inplace=True)"
   ]
  },
  {
   "cell_type": "code",
   "execution_count": 49,
   "id": "8bdbe427",
   "metadata": {},
   "outputs": [],
   "source": [
    "standard_scale = StandardScaler() \n",
    "col1 = standard_scale.fit_transform(col) \n",
    "df_scaled = pd.DataFrame(col1, columns=col.columns)"
   ]
  },
  {
   "cell_type": "code",
   "execution_count": 50,
   "id": "a7ffcd24",
   "metadata": {},
   "outputs": [
    {
     "data": {
      "text/html": [
       "<div>\n",
       "<style scoped>\n",
       "    .dataframe tbody tr th:only-of-type {\n",
       "        vertical-align: middle;\n",
       "    }\n",
       "\n",
       "    .dataframe tbody tr th {\n",
       "        vertical-align: top;\n",
       "    }\n",
       "\n",
       "    .dataframe thead th {\n",
       "        text-align: right;\n",
       "    }\n",
       "</style>\n",
       "<table border=\"1\" class=\"dataframe\">\n",
       "  <thead>\n",
       "    <tr style=\"text-align: right;\">\n",
       "      <th></th>\n",
       "      <th>age</th>\n",
       "      <th>days_since_last_login</th>\n",
       "      <th>avg_time_spent</th>\n",
       "      <th>avg_transaction_value</th>\n",
       "      <th>avg_frequency_login_days</th>\n",
       "      <th>points_in_wallet</th>\n",
       "    </tr>\n",
       "  </thead>\n",
       "  <tbody>\n",
       "    <tr>\n",
       "      <th>0</th>\n",
       "      <td>-1.209342</td>\n",
       "      <td>0.756268</td>\n",
       "      <td>0.098431</td>\n",
       "      <td>1.566300</td>\n",
       "      <td>1.032977</td>\n",
       "      <td>0.435508</td>\n",
       "    </tr>\n",
       "    <tr>\n",
       "      <th>1</th>\n",
       "      <td>-0.326297</td>\n",
       "      <td>0.573495</td>\n",
       "      <td>-0.849870</td>\n",
       "      <td>-0.883072</td>\n",
       "      <td>-1.090570</td>\n",
       "      <td>0.465956</td>\n",
       "    </tr>\n",
       "    <tr>\n",
       "      <th>2</th>\n",
       "      <td>0.430599</td>\n",
       "      <td>0.207949</td>\n",
       "      <td>0.775788</td>\n",
       "      <td>-0.383731</td>\n",
       "      <td>-1.992103</td>\n",
       "      <td>1.584823</td>\n",
       "    </tr>\n",
       "    <tr>\n",
       "      <th>3</th>\n",
       "      <td>-0.010923</td>\n",
       "      <td>-0.340370</td>\n",
       "      <td>-1.391756</td>\n",
       "      <td>-0.126849</td>\n",
       "      <td>-1.271298</td>\n",
       "      <td>-0.883541</td>\n",
       "    </tr>\n",
       "    <tr>\n",
       "      <th>4</th>\n",
       "      <td>-0.389371</td>\n",
       "      <td>1.304586</td>\n",
       "      <td>-0.037041</td>\n",
       "      <td>-0.172944</td>\n",
       "      <td>-0.244497</td>\n",
       "      <td>-0.564337</td>\n",
       "    </tr>\n",
       "  </tbody>\n",
       "</table>\n",
       "</div>"
      ],
      "text/plain": [
       "        age  days_since_last_login  avg_time_spent  avg_transaction_value  \\\n",
       "0 -1.209342               0.756268        0.098431               1.566300   \n",
       "1 -0.326297               0.573495       -0.849870              -0.883072   \n",
       "2  0.430599               0.207949        0.775788              -0.383731   \n",
       "3 -0.010923              -0.340370       -1.391756              -0.126849   \n",
       "4 -0.389371               1.304586       -0.037041              -0.172944   \n",
       "\n",
       "   avg_frequency_login_days  points_in_wallet  \n",
       "0                  1.032977          0.435508  \n",
       "1                 -1.090570          0.465956  \n",
       "2                 -1.992103          1.584823  \n",
       "3                 -1.271298         -0.883541  \n",
       "4                 -0.244497         -0.564337  "
      ]
     },
     "execution_count": 50,
     "metadata": {},
     "output_type": "execute_result"
    }
   ],
   "source": [
    "df_scaled.head()\n"
   ]
  },
  {
   "cell_type": "code",
   "execution_count": 51,
   "id": "cbb9665b",
   "metadata": {},
   "outputs": [],
   "source": [
    "data_final = pd.concat([df_final,df_scaled], axis=1 )"
   ]
  },
  {
   "cell_type": "code",
   "execution_count": 52,
   "id": "a9dbf4ca",
   "metadata": {},
   "outputs": [
    {
     "data": {
      "text/html": [
       "<div>\n",
       "<style scoped>\n",
       "    .dataframe tbody tr th:only-of-type {\n",
       "        vertical-align: middle;\n",
       "    }\n",
       "\n",
       "    .dataframe tbody tr th {\n",
       "        vertical-align: top;\n",
       "    }\n",
       "\n",
       "    .dataframe thead th {\n",
       "        text-align: right;\n",
       "    }\n",
       "</style>\n",
       "<table border=\"1\" class=\"dataframe\">\n",
       "  <thead>\n",
       "    <tr style=\"text-align: right;\">\n",
       "      <th></th>\n",
       "      <th>gender_M</th>\n",
       "      <th>region_category_Town</th>\n",
       "      <th>region_category_Village</th>\n",
       "      <th>joined_through_referral_Yes</th>\n",
       "      <th>preferred_offer_types_Gift Vouchers/Coupons</th>\n",
       "      <th>preferred_offer_types_Without Offers</th>\n",
       "      <th>medium_of_operation_Desktop</th>\n",
       "      <th>medium_of_operation_Smartphone</th>\n",
       "      <th>internet_option_Mobile_Data</th>\n",
       "      <th>internet_option_Wi-Fi</th>\n",
       "      <th>...</th>\n",
       "      <th>year</th>\n",
       "      <th>membership_category</th>\n",
       "      <th>complaint_status</th>\n",
       "      <th>feedback</th>\n",
       "      <th>age</th>\n",
       "      <th>days_since_last_login</th>\n",
       "      <th>avg_time_spent</th>\n",
       "      <th>avg_transaction_value</th>\n",
       "      <th>avg_frequency_login_days</th>\n",
       "      <th>points_in_wallet</th>\n",
       "    </tr>\n",
       "  </thead>\n",
       "  <tbody>\n",
       "    <tr>\n",
       "      <th>0</th>\n",
       "      <td>0</td>\n",
       "      <td>0</td>\n",
       "      <td>1</td>\n",
       "      <td>0</td>\n",
       "      <td>1</td>\n",
       "      <td>0</td>\n",
       "      <td>1</td>\n",
       "      <td>0</td>\n",
       "      <td>0</td>\n",
       "      <td>1</td>\n",
       "      <td>...</td>\n",
       "      <td>4</td>\n",
       "      <td>4.0</td>\n",
       "      <td>1.0</td>\n",
       "      <td>4</td>\n",
       "      <td>-1.209342</td>\n",
       "      <td>0.756268</td>\n",
       "      <td>0.098431</td>\n",
       "      <td>1.566300</td>\n",
       "      <td>1.032977</td>\n",
       "      <td>0.435508</td>\n",
       "    </tr>\n",
       "    <tr>\n",
       "      <th>1</th>\n",
       "      <td>0</td>\n",
       "      <td>0</td>\n",
       "      <td>0</td>\n",
       "      <td>0</td>\n",
       "      <td>1</td>\n",
       "      <td>0</td>\n",
       "      <td>1</td>\n",
       "      <td>0</td>\n",
       "      <td>1</td>\n",
       "      <td>0</td>\n",
       "      <td>...</td>\n",
       "      <td>4</td>\n",
       "      <td>5.0</td>\n",
       "      <td>3.0</td>\n",
       "      <td>5</td>\n",
       "      <td>-0.326297</td>\n",
       "      <td>0.573495</td>\n",
       "      <td>-0.849870</td>\n",
       "      <td>-0.883072</td>\n",
       "      <td>-1.090570</td>\n",
       "      <td>0.465956</td>\n",
       "    </tr>\n",
       "    <tr>\n",
       "      <th>2</th>\n",
       "      <td>0</td>\n",
       "      <td>1</td>\n",
       "      <td>0</td>\n",
       "      <td>1</td>\n",
       "      <td>1</td>\n",
       "      <td>0</td>\n",
       "      <td>1</td>\n",
       "      <td>0</td>\n",
       "      <td>0</td>\n",
       "      <td>1</td>\n",
       "      <td>...</td>\n",
       "      <td>5</td>\n",
       "      <td>0.0</td>\n",
       "      <td>4.0</td>\n",
       "      <td>3</td>\n",
       "      <td>0.430599</td>\n",
       "      <td>0.207949</td>\n",
       "      <td>0.775788</td>\n",
       "      <td>-0.383731</td>\n",
       "      <td>-1.992103</td>\n",
       "      <td>1.584823</td>\n",
       "    </tr>\n",
       "    <tr>\n",
       "      <th>3</th>\n",
       "      <td>1</td>\n",
       "      <td>0</td>\n",
       "      <td>0</td>\n",
       "      <td>1</td>\n",
       "      <td>1</td>\n",
       "      <td>0</td>\n",
       "      <td>1</td>\n",
       "      <td>0</td>\n",
       "      <td>1</td>\n",
       "      <td>0</td>\n",
       "      <td>...</td>\n",
       "      <td>5</td>\n",
       "      <td>0.0</td>\n",
       "      <td>2.0</td>\n",
       "      <td>3</td>\n",
       "      <td>-0.010923</td>\n",
       "      <td>-0.340370</td>\n",
       "      <td>-1.391756</td>\n",
       "      <td>-0.126849</td>\n",
       "      <td>-1.271298</td>\n",
       "      <td>-0.883541</td>\n",
       "    </tr>\n",
       "    <tr>\n",
       "      <th>4</th>\n",
       "      <td>0</td>\n",
       "      <td>0</td>\n",
       "      <td>0</td>\n",
       "      <td>0</td>\n",
       "      <td>0</td>\n",
       "      <td>0</td>\n",
       "      <td>0</td>\n",
       "      <td>1</td>\n",
       "      <td>1</td>\n",
       "      <td>0</td>\n",
       "      <td>...</td>\n",
       "      <td>4</td>\n",
       "      <td>0.0</td>\n",
       "      <td>3.0</td>\n",
       "      <td>3</td>\n",
       "      <td>-0.389371</td>\n",
       "      <td>1.304586</td>\n",
       "      <td>-0.037041</td>\n",
       "      <td>-0.172944</td>\n",
       "      <td>-0.244497</td>\n",
       "      <td>-0.564337</td>\n",
       "    </tr>\n",
       "  </tbody>\n",
       "</table>\n",
       "<p>5 rows × 24 columns</p>\n",
       "</div>"
      ],
      "text/plain": [
       "   gender_M  region_category_Town  region_category_Village  \\\n",
       "0         0                     0                        1   \n",
       "1         0                     0                        0   \n",
       "2         0                     1                        0   \n",
       "3         1                     0                        0   \n",
       "4         0                     0                        0   \n",
       "\n",
       "   joined_through_referral_Yes  preferred_offer_types_Gift Vouchers/Coupons  \\\n",
       "0                            0                                            1   \n",
       "1                            0                                            1   \n",
       "2                            1                                            1   \n",
       "3                            1                                            1   \n",
       "4                            0                                            0   \n",
       "\n",
       "   preferred_offer_types_Without Offers  medium_of_operation_Desktop  \\\n",
       "0                                     0                            1   \n",
       "1                                     0                            1   \n",
       "2                                     0                            1   \n",
       "3                                     0                            1   \n",
       "4                                     0                            0   \n",
       "\n",
       "   medium_of_operation_Smartphone  internet_option_Mobile_Data  \\\n",
       "0                               0                            0   \n",
       "1                               0                            1   \n",
       "2                               0                            0   \n",
       "3                               0                            1   \n",
       "4                               1                            1   \n",
       "\n",
       "   internet_option_Wi-Fi  ...  year  membership_category  complaint_status  \\\n",
       "0                      1  ...     4                  4.0               1.0   \n",
       "1                      0  ...     4                  5.0               3.0   \n",
       "2                      1  ...     5                  0.0               4.0   \n",
       "3                      0  ...     5                  0.0               2.0   \n",
       "4                      0  ...     4                  0.0               3.0   \n",
       "\n",
       "   feedback       age  days_since_last_login  avg_time_spent  \\\n",
       "0         4 -1.209342               0.756268        0.098431   \n",
       "1         5 -0.326297               0.573495       -0.849870   \n",
       "2         3  0.430599               0.207949        0.775788   \n",
       "3         3 -0.010923              -0.340370       -1.391756   \n",
       "4         3 -0.389371               1.304586       -0.037041   \n",
       "\n",
       "   avg_transaction_value  avg_frequency_login_days  points_in_wallet  \n",
       "0               1.566300                  1.032977          0.435508  \n",
       "1              -0.883072                 -1.090570          0.465956  \n",
       "2              -0.383731                 -1.992103          1.584823  \n",
       "3              -0.126849                 -1.271298         -0.883541  \n",
       "4              -0.172944                 -0.244497         -0.564337  \n",
       "\n",
       "[5 rows x 24 columns]"
      ]
     },
     "execution_count": 52,
     "metadata": {},
     "output_type": "execute_result"
    }
   ],
   "source": [
    "data_final.head()"
   ]
  },
  {
   "cell_type": "markdown",
   "id": "2cb902f0",
   "metadata": {},
   "source": [
    "## 5. Model Evaluation "
   ]
  },
  {
   "cell_type": "markdown",
   "id": "391632bc",
   "metadata": {},
   "source": [
    "### 5.1 Feature Selection using Random Forest "
   ]
  },
  {
   "cell_type": "code",
   "execution_count": 53,
   "id": "c1dd5aaf",
   "metadata": {},
   "outputs": [],
   "source": [
    "Features = data_final.drop(['churn_risk_score'] ,axis = 1)\n",
    "Target = data_final['churn_risk_score']"
   ]
  },
  {
   "cell_type": "code",
   "execution_count": 54,
   "id": "7040052c",
   "metadata": {},
   "outputs": [
    {
     "data": {
      "text/plain": [
       "RandomForestClassifier(random_state=0)"
      ]
     },
     "execution_count": 54,
     "metadata": {},
     "output_type": "execute_result"
    }
   ],
   "source": [
    "X_train1, X_test1, y_train1, y_test1 = train_test_split(Features, Target, test_size=0.20, random_state=42)\n",
    "\n",
    "model =  RandomForestClassifier(random_state = 0)\n",
    "model.fit(X_train1, y_train1)"
   ]
  },
  {
   "cell_type": "code",
   "execution_count": 55,
   "id": "ca4b7fe6",
   "metadata": {},
   "outputs": [
    {
     "data": {
      "image/png": "[encoded data removed]",
      "text/plain": [
       "<Figure size 640x480 with 1 Axes>"
      ]
     },
     "metadata": {},
     "output_type": "display_data"
    }
   ],
   "source": [
    "important_features = pd.DataFrame({'Features': X_train1.columns, \n",
    "                                   'Importance': model.feature_importances_})\n",
    "\n",
    "important_features = important_features.sort_values('Importance', ascending = False)\n",
    "\n",
    "sns.barplot(x = 'Importance', y = 'Features', data = important_features)\n",
    "\n",
    "plt.title('Feature Importance', fontsize = 15)\n",
    "plt.xlabel('Importance', fontsize = 15)\n",
    "plt.ylabel('Features', fontsize = 15)\n",
    "\n",
    "plt.show()"
   ]
  },
  {
   "cell_type": "markdown",
   "id": "60fa19a8",
   "metadata": {},
   "source": [
    "##### Important features are identified using Random Forest and dropping inconsistent features."
   ]
  },
  {
   "cell_type": "code",
   "execution_count": 56,
   "id": "5b83a00b",
   "metadata": {},
   "outputs": [],
   "source": [
    "X = Features.drop(['region_category_Village',\n",
    "                       'offer_application_preference_Yes',\n",
    "                       'used_special_discount_Yes',\n",
    "                       'preferred_offer_types_Gift Vouchers/Coupons',\n",
    "                       'past_complaint_Yes',\n",
    "                       'preferred_offer_types_Without Offers',\n",
    "                       'medium_of_operation_Smartphone',\n",
    "                       'medium_of_operation_Desktop',\n",
    "                       'internet_option_Wi-Fi',\n",
    "                       'internet_option_Mobile_Data',\n",
    "                       'joined_through_referral_Yes',\n",
    "                       'region_category_Town',\n",
    "                      ], axis =1)\n",
    "y = Target"
   ]
  },
  {
   "cell_type": "code",
   "execution_count": 57,
   "id": "cab5492d",
   "metadata": {},
   "outputs": [],
   "source": [
    "X_train, X_test, y_train, y_test = train_test_split(X, y, test_size=0.20, random_state=42)"
   ]
  },
  {
   "cell_type": "code",
   "execution_count": 58,
   "id": "8a10f06c",
   "metadata": {},
   "outputs": [],
   "source": [
    "def gridsearch(model , param):\n",
    "    gscv = GridSearchCV(estimator = model, \n",
    "                         param_grid = param, \n",
    "                         scoring='accuracy',\n",
    "                         cv = 5,\n",
    "                         n_jobs = -1)\n",
    "    gscv.fit(X_train , y_train)\n",
    "    result = gscv.best_params_\n",
    "    return result"
   ]
  },
  {
   "cell_type": "code",
   "execution_count": 59,
   "id": "88a598c2",
   "metadata": {},
   "outputs": [
    {
     "name": "stdout",
     "output_type": "stream",
     "text": [
      "Best parameters for KNN: {'n_neighbors': 11}\n"
     ]
    }
   ],
   "source": [
    "knn_gs = KNeighborsClassifier()\n",
    "knn_params ={'n_neighbors':[3,5,7,9,11]}\n",
    "r2 = gridsearch(knn_gs , knn_params)\n",
    "print(f'Best parameters for KNN: {r2}')"
   ]
  },
  {
   "cell_type": "code",
   "execution_count": 60,
   "id": "1f24a0c6",
   "metadata": {},
   "outputs": [
    {
     "name": "stdout",
     "output_type": "stream",
     "text": [
      "Best parameters for Random Forest :{'criterion': 'gini', 'max_depth': 4, 'max_features': 'sqrt', 'min_samples_split': 5, 'n_estimators': 250}\n"
     ]
    }
   ],
   "source": [
    "rf_gs = RandomForestClassifier(random_state = 0)\n",
    "rf_params = {\n",
    "  'n_estimators':[200,250],\n",
    " 'criterion': ( 'gini','entropy'),\n",
    " 'max_depth': [2, 3 ,4],\n",
    " 'min_samples_split': [2,5,8],\n",
    " 'max_features': (\"sqrt\", \"log2\") }\n",
    "r3 = gridsearch(rf_gs , rf_params)\n",
    "print(f'Best parameters for Random Forest :{r3}')"
   ]
  },
  {
   "cell_type": "code",
   "execution_count": null,
   "id": "445389f1",
   "metadata": {},
   "outputs": [],
   "source": []
  },
  {
   "cell_type": "markdown",
   "id": "be2cb5b5",
   "metadata": {},
   "source": [
    "##### Best hyperparameters are identified using Grid Search CV"
   ]
  },
  {
   "cell_type": "code",
   "execution_count": null,
   "id": "fc2be71f",
   "metadata": {},
   "outputs": [],
   "source": []
  },
  {
   "cell_type": "code",
   "execution_count": null,
   "id": "749a9d30",
   "metadata": {},
   "outputs": [],
   "source": []
  },
  {
   "cell_type": "code",
   "execution_count": null,
   "id": "08044355",
   "metadata": {},
   "outputs": [],
   "source": []
  },
  {
   "cell_type": "code",
   "execution_count": null,
   "id": "1bf20b3e",
   "metadata": {},
   "outputs": [],
   "source": []
  },
  {
   "cell_type": "code",
   "execution_count": null,
   "id": "5eebfc01",
   "metadata": {},
   "outputs": [],
   "source": []
  },
  {
   "cell_type": "code",
   "execution_count": null,
   "id": "ab9462c5",
   "metadata": {},
   "outputs": [],
   "source": []
  },
  {
   "cell_type": "code",
   "execution_count": null,
   "id": "d76d3032",
   "metadata": {},
   "outputs": [],
   "source": []
  }
 ],
 "metadata": {
  "kernelspec": {
   "display_name": "Python 3 (ipykernel)",
   "language": "python",
   "name": "python3"
  },
  "language_info": {
   "codemirror_mode": {
    "name": "ipython",
    "version": 3
   },
   "file_extension": ".py",
   "mimetype": "text/x-python",
   "name": "python",
   "nbconvert_exporter": "python",
   "pygments_lexer": "ipython3",
   "version": "3.9.13"
  }
 },
 "nbformat": 4,
 "nbformat_minor": 5
}
